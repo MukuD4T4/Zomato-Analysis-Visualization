{
 "cells": [
  {
   "cell_type": "markdown",
   "id": "ccd1551c",
   "metadata": {
    "id": "iyRaPeE9ee2P",
    "papermill": {
     "duration": 0.025359,
     "end_time": "2022-06-08T10:41:03.521834",
     "exception": false,
     "start_time": "2022-06-08T10:41:03.496475",
     "status": "completed"
    },
    "tags": []
   },
   "source": [
    "# Zomato Bangalore Analysis and Visualization\n",
    "Zomato is India's largest Food Delivery, Dining and Restaurant Discovery Service. \n",
    "Here we are going to analyze the dataset of Zomato which is downloaded rom kaggle.com.\n",
    "We will try to understand which area has the more demand for dine type restaurants. We will also help person 'x' to open which type of restaurant in Indiranagar. \n",
    "We will do a analysis on the dataset to provide some insightful outcomes. "
   ]
  },
  {
   "cell_type": "markdown",
   "id": "b755c5c5",
   "metadata": {
    "id": "HBFBOBFffo9y",
    "papermill": {
     "duration": 0.022445,
     "end_time": "2022-06-08T10:41:03.568862",
     "exception": false,
     "start_time": "2022-06-08T10:41:03.546417",
     "status": "completed"
    },
    "tags": []
   },
   "source": [
    "# Downloading and reading files\n",
    " -  Downoad the file from kaggle\n",
    " -  Read the datset"
   ]
  },
  {
   "cell_type": "code",
   "execution_count": 1,
   "id": "519507d3",
   "metadata": {
    "execution": {
     "iopub.execute_input": "2022-06-08T10:41:03.617019Z",
     "iopub.status.busy": "2022-06-08T10:41:03.615789Z",
     "iopub.status.idle": "2022-06-08T10:41:16.019389Z",
     "shell.execute_reply": "2022-06-08T10:41:16.018069Z"
    },
    "id": "u7dVbaEBgujD",
    "papermill": {
     "duration": 12.430582,
     "end_time": "2022-06-08T10:41:16.022160",
     "exception": false,
     "start_time": "2022-06-08T10:41:03.591578",
     "status": "completed"
    },
    "tags": []
   },
   "outputs": [],
   "source": [
    "import pandas as pd\n",
    "df = pd.read_csv(\"../input/zomato-bangalore-restaurants/zomato.csv\")"
   ]
  },
  {
   "cell_type": "code",
   "execution_count": 2,
   "id": "33c29583",
   "metadata": {
    "execution": {
     "iopub.execute_input": "2022-06-08T10:41:16.070909Z",
     "iopub.status.busy": "2022-06-08T10:41:16.070488Z",
     "iopub.status.idle": "2022-06-08T10:41:16.098647Z",
     "shell.execute_reply": "2022-06-08T10:41:16.097760Z"
    },
    "executionInfo": {
     "elapsed": 13,
     "status": "ok",
     "timestamp": 1652456905855,
     "user": {
      "displayName": "Mukul Deshantri",
      "userId": "07050717677545475229"
     },
     "user_tz": -330
    },
    "id": "vv74wEgdg85a",
    "outputId": "e98f604d-cf80-450e-93bf-6ce8abf465b3",
    "papermill": {
     "duration": 0.056032,
     "end_time": "2022-06-08T10:41:16.101789",
     "exception": false,
     "start_time": "2022-06-08T10:41:16.045757",
     "status": "completed"
    },
    "tags": []
   },
   "outputs": [
    {
     "data": {
      "text/html": [
       "<div>\n",
       "<style scoped>\n",
       "    .dataframe tbody tr th:only-of-type {\n",
       "        vertical-align: middle;\n",
       "    }\n",
       "\n",
       "    .dataframe tbody tr th {\n",
       "        vertical-align: top;\n",
       "    }\n",
       "\n",
       "    .dataframe thead th {\n",
       "        text-align: right;\n",
       "    }\n",
       "</style>\n",
       "<table border=\"1\" class=\"dataframe\">\n",
       "  <thead>\n",
       "    <tr style=\"text-align: right;\">\n",
       "      <th></th>\n",
       "      <th>url</th>\n",
       "      <th>address</th>\n",
       "      <th>name</th>\n",
       "      <th>online_order</th>\n",
       "      <th>book_table</th>\n",
       "      <th>rate</th>\n",
       "      <th>votes</th>\n",
       "      <th>phone</th>\n",
       "      <th>location</th>\n",
       "      <th>rest_type</th>\n",
       "      <th>dish_liked</th>\n",
       "      <th>cuisines</th>\n",
       "      <th>approx_cost(for two people)</th>\n",
       "      <th>reviews_list</th>\n",
       "      <th>menu_item</th>\n",
       "      <th>listed_in(type)</th>\n",
       "      <th>listed_in(city)</th>\n",
       "    </tr>\n",
       "  </thead>\n",
       "  <tbody>\n",
       "    <tr>\n",
       "      <th>0</th>\n",
       "      <td>https://www.zomato.com/bangalore/jalsa-banasha...</td>\n",
       "      <td>942, 21st Main Road, 2nd Stage, Banashankari, ...</td>\n",
       "      <td>Jalsa</td>\n",
       "      <td>Yes</td>\n",
       "      <td>Yes</td>\n",
       "      <td>4.1/5</td>\n",
       "      <td>775</td>\n",
       "      <td>080 42297555\\r\\n+91 9743772233</td>\n",
       "      <td>Banashankari</td>\n",
       "      <td>Casual Dining</td>\n",
       "      <td>Pasta, Lunch Buffet, Masala Papad, Paneer Laja...</td>\n",
       "      <td>North Indian, Mughlai, Chinese</td>\n",
       "      <td>800</td>\n",
       "      <td>[('Rated 4.0', 'RATED\\n  A beautiful place to ...</td>\n",
       "      <td>[]</td>\n",
       "      <td>Buffet</td>\n",
       "      <td>Banashankari</td>\n",
       "    </tr>\n",
       "    <tr>\n",
       "      <th>1</th>\n",
       "      <td>https://www.zomato.com/bangalore/spice-elephan...</td>\n",
       "      <td>2nd Floor, 80 Feet Road, Near Big Bazaar, 6th ...</td>\n",
       "      <td>Spice Elephant</td>\n",
       "      <td>Yes</td>\n",
       "      <td>No</td>\n",
       "      <td>4.1/5</td>\n",
       "      <td>787</td>\n",
       "      <td>080 41714161</td>\n",
       "      <td>Banashankari</td>\n",
       "      <td>Casual Dining</td>\n",
       "      <td>Momos, Lunch Buffet, Chocolate Nirvana, Thai G...</td>\n",
       "      <td>Chinese, North Indian, Thai</td>\n",
       "      <td>800</td>\n",
       "      <td>[('Rated 4.0', 'RATED\\n  Had been here for din...</td>\n",
       "      <td>[]</td>\n",
       "      <td>Buffet</td>\n",
       "      <td>Banashankari</td>\n",
       "    </tr>\n",
       "    <tr>\n",
       "      <th>2</th>\n",
       "      <td>https://www.zomato.com/SanchurroBangalore?cont...</td>\n",
       "      <td>1112, Next to KIMS Medical College, 17th Cross...</td>\n",
       "      <td>San Churro Cafe</td>\n",
       "      <td>Yes</td>\n",
       "      <td>No</td>\n",
       "      <td>3.8/5</td>\n",
       "      <td>918</td>\n",
       "      <td>+91 9663487993</td>\n",
       "      <td>Banashankari</td>\n",
       "      <td>Cafe, Casual Dining</td>\n",
       "      <td>Churros, Cannelloni, Minestrone Soup, Hot Choc...</td>\n",
       "      <td>Cafe, Mexican, Italian</td>\n",
       "      <td>800</td>\n",
       "      <td>[('Rated 3.0', \"RATED\\n  Ambience is not that ...</td>\n",
       "      <td>[]</td>\n",
       "      <td>Buffet</td>\n",
       "      <td>Banashankari</td>\n",
       "    </tr>\n",
       "    <tr>\n",
       "      <th>3</th>\n",
       "      <td>https://www.zomato.com/bangalore/addhuri-udupi...</td>\n",
       "      <td>1st Floor, Annakuteera, 3rd Stage, Banashankar...</td>\n",
       "      <td>Addhuri Udupi Bhojana</td>\n",
       "      <td>No</td>\n",
       "      <td>No</td>\n",
       "      <td>3.7/5</td>\n",
       "      <td>88</td>\n",
       "      <td>+91 9620009302</td>\n",
       "      <td>Banashankari</td>\n",
       "      <td>Quick Bites</td>\n",
       "      <td>Masala Dosa</td>\n",
       "      <td>South Indian, North Indian</td>\n",
       "      <td>300</td>\n",
       "      <td>[('Rated 4.0', \"RATED\\n  Great food and proper...</td>\n",
       "      <td>[]</td>\n",
       "      <td>Buffet</td>\n",
       "      <td>Banashankari</td>\n",
       "    </tr>\n",
       "    <tr>\n",
       "      <th>4</th>\n",
       "      <td>https://www.zomato.com/bangalore/grand-village...</td>\n",
       "      <td>10, 3rd Floor, Lakshmi Associates, Gandhi Baza...</td>\n",
       "      <td>Grand Village</td>\n",
       "      <td>No</td>\n",
       "      <td>No</td>\n",
       "      <td>3.8/5</td>\n",
       "      <td>166</td>\n",
       "      <td>+91 8026612447\\r\\n+91 9901210005</td>\n",
       "      <td>Basavanagudi</td>\n",
       "      <td>Casual Dining</td>\n",
       "      <td>Panipuri, Gol Gappe</td>\n",
       "      <td>North Indian, Rajasthani</td>\n",
       "      <td>600</td>\n",
       "      <td>[('Rated 4.0', 'RATED\\n  Very good restaurant ...</td>\n",
       "      <td>[]</td>\n",
       "      <td>Buffet</td>\n",
       "      <td>Banashankari</td>\n",
       "    </tr>\n",
       "  </tbody>\n",
       "</table>\n",
       "</div>"
      ],
      "text/plain": [
       "                                                 url  \\\n",
       "0  https://www.zomato.com/bangalore/jalsa-banasha...   \n",
       "1  https://www.zomato.com/bangalore/spice-elephan...   \n",
       "2  https://www.zomato.com/SanchurroBangalore?cont...   \n",
       "3  https://www.zomato.com/bangalore/addhuri-udupi...   \n",
       "4  https://www.zomato.com/bangalore/grand-village...   \n",
       "\n",
       "                                             address                   name  \\\n",
       "0  942, 21st Main Road, 2nd Stage, Banashankari, ...                  Jalsa   \n",
       "1  2nd Floor, 80 Feet Road, Near Big Bazaar, 6th ...         Spice Elephant   \n",
       "2  1112, Next to KIMS Medical College, 17th Cross...        San Churro Cafe   \n",
       "3  1st Floor, Annakuteera, 3rd Stage, Banashankar...  Addhuri Udupi Bhojana   \n",
       "4  10, 3rd Floor, Lakshmi Associates, Gandhi Baza...          Grand Village   \n",
       "\n",
       "  online_order book_table   rate  votes                             phone  \\\n",
       "0          Yes        Yes  4.1/5    775    080 42297555\\r\\n+91 9743772233   \n",
       "1          Yes         No  4.1/5    787                      080 41714161   \n",
       "2          Yes         No  3.8/5    918                    +91 9663487993   \n",
       "3           No         No  3.7/5     88                    +91 9620009302   \n",
       "4           No         No  3.8/5    166  +91 8026612447\\r\\n+91 9901210005   \n",
       "\n",
       "       location            rest_type  \\\n",
       "0  Banashankari        Casual Dining   \n",
       "1  Banashankari        Casual Dining   \n",
       "2  Banashankari  Cafe, Casual Dining   \n",
       "3  Banashankari          Quick Bites   \n",
       "4  Basavanagudi        Casual Dining   \n",
       "\n",
       "                                          dish_liked  \\\n",
       "0  Pasta, Lunch Buffet, Masala Papad, Paneer Laja...   \n",
       "1  Momos, Lunch Buffet, Chocolate Nirvana, Thai G...   \n",
       "2  Churros, Cannelloni, Minestrone Soup, Hot Choc...   \n",
       "3                                        Masala Dosa   \n",
       "4                                Panipuri, Gol Gappe   \n",
       "\n",
       "                         cuisines approx_cost(for two people)  \\\n",
       "0  North Indian, Mughlai, Chinese                         800   \n",
       "1     Chinese, North Indian, Thai                         800   \n",
       "2          Cafe, Mexican, Italian                         800   \n",
       "3      South Indian, North Indian                         300   \n",
       "4        North Indian, Rajasthani                         600   \n",
       "\n",
       "                                        reviews_list menu_item  \\\n",
       "0  [('Rated 4.0', 'RATED\\n  A beautiful place to ...        []   \n",
       "1  [('Rated 4.0', 'RATED\\n  Had been here for din...        []   \n",
       "2  [('Rated 3.0', \"RATED\\n  Ambience is not that ...        []   \n",
       "3  [('Rated 4.0', \"RATED\\n  Great food and proper...        []   \n",
       "4  [('Rated 4.0', 'RATED\\n  Very good restaurant ...        []   \n",
       "\n",
       "  listed_in(type) listed_in(city)  \n",
       "0          Buffet    Banashankari  \n",
       "1          Buffet    Banashankari  \n",
       "2          Buffet    Banashankari  \n",
       "3          Buffet    Banashankari  \n",
       "4          Buffet    Banashankari  "
      ]
     },
     "execution_count": 2,
     "metadata": {},
     "output_type": "execute_result"
    }
   ],
   "source": [
    "df.head(5)"
   ]
  },
  {
   "cell_type": "code",
   "execution_count": 3,
   "id": "6af0d99f",
   "metadata": {
    "execution": {
     "iopub.execute_input": "2022-06-08T10:41:16.150837Z",
     "iopub.status.busy": "2022-06-08T10:41:16.149791Z",
     "iopub.status.idle": "2022-06-08T10:41:16.156316Z",
     "shell.execute_reply": "2022-06-08T10:41:16.155597Z"
    },
    "executionInfo": {
     "elapsed": 14,
     "status": "ok",
     "timestamp": 1652456905857,
     "user": {
      "displayName": "Mukul Deshantri",
      "userId": "07050717677545475229"
     },
     "user_tz": -330
    },
    "id": "srrUhhCIhNk-",
    "outputId": "c4533bdf-dc51-4ccc-eeee-57bc193442b4",
    "papermill": {
     "duration": 0.032973,
     "end_time": "2022-06-08T10:41:16.158182",
     "exception": false,
     "start_time": "2022-06-08T10:41:16.125209",
     "status": "completed"
    },
    "tags": []
   },
   "outputs": [
    {
     "data": {
      "text/plain": [
       "(51717, 17)"
      ]
     },
     "execution_count": 3,
     "metadata": {},
     "output_type": "execute_result"
    }
   ],
   "source": [
    "df.shape"
   ]
  },
  {
   "cell_type": "code",
   "execution_count": 4,
   "id": "54032dae",
   "metadata": {
    "execution": {
     "iopub.execute_input": "2022-06-08T10:41:16.207178Z",
     "iopub.status.busy": "2022-06-08T10:41:16.206162Z",
     "iopub.status.idle": "2022-06-08T10:41:16.212892Z",
     "shell.execute_reply": "2022-06-08T10:41:16.212004Z"
    },
    "executionInfo": {
     "elapsed": 14,
     "status": "ok",
     "timestamp": 1652456905859,
     "user": {
      "displayName": "Mukul Deshantri",
      "userId": "07050717677545475229"
     },
     "user_tz": -330
    },
    "id": "daQDWOP1hP3c",
    "outputId": "11bf8abc-9216-4068-8191-00f1318b0b2a",
    "papermill": {
     "duration": 0.033262,
     "end_time": "2022-06-08T10:41:16.214766",
     "exception": false,
     "start_time": "2022-06-08T10:41:16.181504",
     "status": "completed"
    },
    "tags": []
   },
   "outputs": [
    {
     "data": {
      "text/plain": [
       "Index(['url', 'address', 'name', 'online_order', 'book_table', 'rate', 'votes',\n",
       "       'phone', 'location', 'rest_type', 'dish_liked', 'cuisines',\n",
       "       'approx_cost(for two people)', 'reviews_list', 'menu_item',\n",
       "       'listed_in(type)', 'listed_in(city)'],\n",
       "      dtype='object')"
      ]
     },
     "execution_count": 4,
     "metadata": {},
     "output_type": "execute_result"
    }
   ],
   "source": [
    "df.columns"
   ]
  },
  {
   "cell_type": "markdown",
   "id": "07680dc4",
   "metadata": {
    "id": "9CKHTW9GiUxT",
    "papermill": {
     "duration": 0.023545,
     "end_time": "2022-06-08T10:41:16.262636",
     "exception": false,
     "start_time": "2022-06-08T10:41:16.239091",
     "status": "completed"
    },
    "tags": []
   },
   "source": [
    "# Data Preparation and cleaning\n",
    "  - Here we will remove unwanted columns\n",
    "  - We'll also see which columns have numm values"
   ]
  },
  {
   "cell_type": "code",
   "execution_count": 5,
   "id": "25317a10",
   "metadata": {
    "execution": {
     "iopub.execute_input": "2022-06-08T10:41:16.313403Z",
     "iopub.status.busy": "2022-06-08T10:41:16.312809Z",
     "iopub.status.idle": "2022-06-08T10:41:16.349446Z",
     "shell.execute_reply": "2022-06-08T10:41:16.348560Z"
    },
    "executionInfo": {
     "elapsed": 9,
     "status": "ok",
     "timestamp": 1652456908937,
     "user": {
      "displayName": "Mukul Deshantri",
      "userId": "07050717677545475229"
     },
     "user_tz": -330
    },
    "id": "jweWEfI0hScq",
    "outputId": "3dd57ae4-2b15-445e-d721-28bf804af3b2",
    "papermill": {
     "duration": 0.06479,
     "end_time": "2022-06-08T10:41:16.351387",
     "exception": false,
     "start_time": "2022-06-08T10:41:16.286597",
     "status": "completed"
    },
    "tags": []
   },
   "outputs": [
    {
     "data": {
      "text/html": [
       "<div>\n",
       "<style scoped>\n",
       "    .dataframe tbody tr th:only-of-type {\n",
       "        vertical-align: middle;\n",
       "    }\n",
       "\n",
       "    .dataframe tbody tr th {\n",
       "        vertical-align: top;\n",
       "    }\n",
       "\n",
       "    .dataframe thead th {\n",
       "        text-align: right;\n",
       "    }\n",
       "</style>\n",
       "<table border=\"1\" class=\"dataframe\">\n",
       "  <thead>\n",
       "    <tr style=\"text-align: right;\">\n",
       "      <th></th>\n",
       "      <th>url</th>\n",
       "      <th>address</th>\n",
       "      <th>name</th>\n",
       "      <th>online_order</th>\n",
       "      <th>book_table</th>\n",
       "      <th>rate</th>\n",
       "      <th>votes</th>\n",
       "      <th>phone</th>\n",
       "      <th>location</th>\n",
       "      <th>rest_type</th>\n",
       "      <th>dish_liked</th>\n",
       "      <th>cuisines</th>\n",
       "      <th>approx_cost(for two people)</th>\n",
       "      <th>reviews_list</th>\n",
       "      <th>listed_in(type)</th>\n",
       "      <th>listed_in(city)</th>\n",
       "    </tr>\n",
       "  </thead>\n",
       "  <tbody>\n",
       "    <tr>\n",
       "      <th>0</th>\n",
       "      <td>https://www.zomato.com/bangalore/jalsa-banasha...</td>\n",
       "      <td>942, 21st Main Road, 2nd Stage, Banashankari, ...</td>\n",
       "      <td>Jalsa</td>\n",
       "      <td>Yes</td>\n",
       "      <td>Yes</td>\n",
       "      <td>4.1/5</td>\n",
       "      <td>775</td>\n",
       "      <td>080 42297555\\r\\n+91 9743772233</td>\n",
       "      <td>Banashankari</td>\n",
       "      <td>Casual Dining</td>\n",
       "      <td>Pasta, Lunch Buffet, Masala Papad, Paneer Laja...</td>\n",
       "      <td>North Indian, Mughlai, Chinese</td>\n",
       "      <td>800</td>\n",
       "      <td>[('Rated 4.0', 'RATED\\n  A beautiful place to ...</td>\n",
       "      <td>Buffet</td>\n",
       "      <td>Banashankari</td>\n",
       "    </tr>\n",
       "    <tr>\n",
       "      <th>1</th>\n",
       "      <td>https://www.zomato.com/bangalore/spice-elephan...</td>\n",
       "      <td>2nd Floor, 80 Feet Road, Near Big Bazaar, 6th ...</td>\n",
       "      <td>Spice Elephant</td>\n",
       "      <td>Yes</td>\n",
       "      <td>No</td>\n",
       "      <td>4.1/5</td>\n",
       "      <td>787</td>\n",
       "      <td>080 41714161</td>\n",
       "      <td>Banashankari</td>\n",
       "      <td>Casual Dining</td>\n",
       "      <td>Momos, Lunch Buffet, Chocolate Nirvana, Thai G...</td>\n",
       "      <td>Chinese, North Indian, Thai</td>\n",
       "      <td>800</td>\n",
       "      <td>[('Rated 4.0', 'RATED\\n  Had been here for din...</td>\n",
       "      <td>Buffet</td>\n",
       "      <td>Banashankari</td>\n",
       "    </tr>\n",
       "    <tr>\n",
       "      <th>2</th>\n",
       "      <td>https://www.zomato.com/SanchurroBangalore?cont...</td>\n",
       "      <td>1112, Next to KIMS Medical College, 17th Cross...</td>\n",
       "      <td>San Churro Cafe</td>\n",
       "      <td>Yes</td>\n",
       "      <td>No</td>\n",
       "      <td>3.8/5</td>\n",
       "      <td>918</td>\n",
       "      <td>+91 9663487993</td>\n",
       "      <td>Banashankari</td>\n",
       "      <td>Cafe, Casual Dining</td>\n",
       "      <td>Churros, Cannelloni, Minestrone Soup, Hot Choc...</td>\n",
       "      <td>Cafe, Mexican, Italian</td>\n",
       "      <td>800</td>\n",
       "      <td>[('Rated 3.0', \"RATED\\n  Ambience is not that ...</td>\n",
       "      <td>Buffet</td>\n",
       "      <td>Banashankari</td>\n",
       "    </tr>\n",
       "    <tr>\n",
       "      <th>3</th>\n",
       "      <td>https://www.zomato.com/bangalore/addhuri-udupi...</td>\n",
       "      <td>1st Floor, Annakuteera, 3rd Stage, Banashankar...</td>\n",
       "      <td>Addhuri Udupi Bhojana</td>\n",
       "      <td>No</td>\n",
       "      <td>No</td>\n",
       "      <td>3.7/5</td>\n",
       "      <td>88</td>\n",
       "      <td>+91 9620009302</td>\n",
       "      <td>Banashankari</td>\n",
       "      <td>Quick Bites</td>\n",
       "      <td>Masala Dosa</td>\n",
       "      <td>South Indian, North Indian</td>\n",
       "      <td>300</td>\n",
       "      <td>[('Rated 4.0', \"RATED\\n  Great food and proper...</td>\n",
       "      <td>Buffet</td>\n",
       "      <td>Banashankari</td>\n",
       "    </tr>\n",
       "    <tr>\n",
       "      <th>4</th>\n",
       "      <td>https://www.zomato.com/bangalore/grand-village...</td>\n",
       "      <td>10, 3rd Floor, Lakshmi Associates, Gandhi Baza...</td>\n",
       "      <td>Grand Village</td>\n",
       "      <td>No</td>\n",
       "      <td>No</td>\n",
       "      <td>3.8/5</td>\n",
       "      <td>166</td>\n",
       "      <td>+91 8026612447\\r\\n+91 9901210005</td>\n",
       "      <td>Basavanagudi</td>\n",
       "      <td>Casual Dining</td>\n",
       "      <td>Panipuri, Gol Gappe</td>\n",
       "      <td>North Indian, Rajasthani</td>\n",
       "      <td>600</td>\n",
       "      <td>[('Rated 4.0', 'RATED\\n  Very good restaurant ...</td>\n",
       "      <td>Buffet</td>\n",
       "      <td>Banashankari</td>\n",
       "    </tr>\n",
       "  </tbody>\n",
       "</table>\n",
       "</div>"
      ],
      "text/plain": [
       "                                                 url  \\\n",
       "0  https://www.zomato.com/bangalore/jalsa-banasha...   \n",
       "1  https://www.zomato.com/bangalore/spice-elephan...   \n",
       "2  https://www.zomato.com/SanchurroBangalore?cont...   \n",
       "3  https://www.zomato.com/bangalore/addhuri-udupi...   \n",
       "4  https://www.zomato.com/bangalore/grand-village...   \n",
       "\n",
       "                                             address                   name  \\\n",
       "0  942, 21st Main Road, 2nd Stage, Banashankari, ...                  Jalsa   \n",
       "1  2nd Floor, 80 Feet Road, Near Big Bazaar, 6th ...         Spice Elephant   \n",
       "2  1112, Next to KIMS Medical College, 17th Cross...        San Churro Cafe   \n",
       "3  1st Floor, Annakuteera, 3rd Stage, Banashankar...  Addhuri Udupi Bhojana   \n",
       "4  10, 3rd Floor, Lakshmi Associates, Gandhi Baza...          Grand Village   \n",
       "\n",
       "  online_order book_table   rate  votes                             phone  \\\n",
       "0          Yes        Yes  4.1/5    775    080 42297555\\r\\n+91 9743772233   \n",
       "1          Yes         No  4.1/5    787                      080 41714161   \n",
       "2          Yes         No  3.8/5    918                    +91 9663487993   \n",
       "3           No         No  3.7/5     88                    +91 9620009302   \n",
       "4           No         No  3.8/5    166  +91 8026612447\\r\\n+91 9901210005   \n",
       "\n",
       "       location            rest_type  \\\n",
       "0  Banashankari        Casual Dining   \n",
       "1  Banashankari        Casual Dining   \n",
       "2  Banashankari  Cafe, Casual Dining   \n",
       "3  Banashankari          Quick Bites   \n",
       "4  Basavanagudi        Casual Dining   \n",
       "\n",
       "                                          dish_liked  \\\n",
       "0  Pasta, Lunch Buffet, Masala Papad, Paneer Laja...   \n",
       "1  Momos, Lunch Buffet, Chocolate Nirvana, Thai G...   \n",
       "2  Churros, Cannelloni, Minestrone Soup, Hot Choc...   \n",
       "3                                        Masala Dosa   \n",
       "4                                Panipuri, Gol Gappe   \n",
       "\n",
       "                         cuisines approx_cost(for two people)  \\\n",
       "0  North Indian, Mughlai, Chinese                         800   \n",
       "1     Chinese, North Indian, Thai                         800   \n",
       "2          Cafe, Mexican, Italian                         800   \n",
       "3      South Indian, North Indian                         300   \n",
       "4        North Indian, Rajasthani                         600   \n",
       "\n",
       "                                        reviews_list listed_in(type)  \\\n",
       "0  [('Rated 4.0', 'RATED\\n  A beautiful place to ...          Buffet   \n",
       "1  [('Rated 4.0', 'RATED\\n  Had been here for din...          Buffet   \n",
       "2  [('Rated 3.0', \"RATED\\n  Ambience is not that ...          Buffet   \n",
       "3  [('Rated 4.0', \"RATED\\n  Great food and proper...          Buffet   \n",
       "4  [('Rated 4.0', 'RATED\\n  Very good restaurant ...          Buffet   \n",
       "\n",
       "  listed_in(city)  \n",
       "0    Banashankari  \n",
       "1    Banashankari  \n",
       "2    Banashankari  \n",
       "3    Banashankari  \n",
       "4    Banashankari  "
      ]
     },
     "execution_count": 5,
     "metadata": {},
     "output_type": "execute_result"
    }
   ],
   "source": [
    "df=df.drop(['menu_item'],axis=1)\n",
    "df.head()\n",
    "#We have removed url, phone, address and menu item columns"
   ]
  },
  {
   "cell_type": "code",
   "execution_count": 6,
   "id": "347de153",
   "metadata": {
    "execution": {
     "iopub.execute_input": "2022-06-08T10:41:16.400812Z",
     "iopub.status.busy": "2022-06-08T10:41:16.400405Z",
     "iopub.status.idle": "2022-06-08T10:41:16.406163Z",
     "shell.execute_reply": "2022-06-08T10:41:16.405284Z"
    },
    "executionInfo": {
     "elapsed": 665,
     "status": "ok",
     "timestamp": 1652456909595,
     "user": {
      "displayName": "Mukul Deshantri",
      "userId": "07050717677545475229"
     },
     "user_tz": -330
    },
    "id": "sV9rA1d0iG2R",
    "outputId": "1fed58bb-1233-45bc-dfa2-452e9364df4c",
    "papermill": {
     "duration": 0.033161,
     "end_time": "2022-06-08T10:41:16.408376",
     "exception": false,
     "start_time": "2022-06-08T10:41:16.375215",
     "status": "completed"
    },
    "tags": []
   },
   "outputs": [
    {
     "data": {
      "text/plain": [
       "Index(['url', 'address', 'name', 'online_order', 'book_table', 'rate', 'votes',\n",
       "       'phone', 'location', 'rest_type', 'dish_liked', 'cuisines',\n",
       "       'approx_cost(for two people)', 'reviews_list', 'listed_in(type)',\n",
       "       'listed_in(city)'],\n",
       "      dtype='object')"
      ]
     },
     "execution_count": 6,
     "metadata": {},
     "output_type": "execute_result"
    }
   ],
   "source": [
    "df.columns"
   ]
  },
  {
   "cell_type": "code",
   "execution_count": 7,
   "id": "febfc9c0",
   "metadata": {
    "execution": {
     "iopub.execute_input": "2022-06-08T10:41:16.458343Z",
     "iopub.status.busy": "2022-06-08T10:41:16.457792Z",
     "iopub.status.idle": "2022-06-08T10:41:16.567324Z",
     "shell.execute_reply": "2022-06-08T10:41:16.566101Z"
    },
    "executionInfo": {
     "elapsed": 10,
     "status": "ok",
     "timestamp": 1652456909599,
     "user": {
      "displayName": "Mukul Deshantri",
      "userId": "07050717677545475229"
     },
     "user_tz": -330
    },
    "id": "vxsXlTWaiOtk",
    "outputId": "9f3d8ec2-0c37-49cc-a663-d397cca67fa7",
    "papermill": {
     "duration": 0.137219,
     "end_time": "2022-06-08T10:41:16.569626",
     "exception": false,
     "start_time": "2022-06-08T10:41:16.432407",
     "status": "completed"
    },
    "tags": []
   },
   "outputs": [
    {
     "name": "stdout",
     "output_type": "stream",
     "text": [
      "<class 'pandas.core.frame.DataFrame'>\n",
      "RangeIndex: 51717 entries, 0 to 51716\n",
      "Data columns (total 16 columns):\n",
      " #   Column                       Non-Null Count  Dtype \n",
      "---  ------                       --------------  ----- \n",
      " 0   url                          51717 non-null  object\n",
      " 1   address                      51717 non-null  object\n",
      " 2   name                         51717 non-null  object\n",
      " 3   online_order                 51717 non-null  object\n",
      " 4   book_table                   51717 non-null  object\n",
      " 5   rate                         43942 non-null  object\n",
      " 6   votes                        51717 non-null  int64 \n",
      " 7   phone                        50509 non-null  object\n",
      " 8   location                     51696 non-null  object\n",
      " 9   rest_type                    51490 non-null  object\n",
      " 10  dish_liked                   23639 non-null  object\n",
      " 11  cuisines                     51672 non-null  object\n",
      " 12  approx_cost(for two people)  51371 non-null  object\n",
      " 13  reviews_list                 51717 non-null  object\n",
      " 14  listed_in(type)              51717 non-null  object\n",
      " 15  listed_in(city)              51717 non-null  object\n",
      "dtypes: int64(1), object(15)\n",
      "memory usage: 6.3+ MB\n"
     ]
    }
   ],
   "source": [
    "df.info()"
   ]
  },
  {
   "cell_type": "code",
   "execution_count": 8,
   "id": "5694d72a",
   "metadata": {
    "execution": {
     "iopub.execute_input": "2022-06-08T10:41:16.620541Z",
     "iopub.status.busy": "2022-06-08T10:41:16.619647Z",
     "iopub.status.idle": "2022-06-08T10:41:18.624183Z",
     "shell.execute_reply": "2022-06-08T10:41:18.623223Z"
    },
    "executionInfo": {
     "elapsed": 1549,
     "status": "ok",
     "timestamp": 1652456911139,
     "user": {
      "displayName": "Mukul Deshantri",
      "userId": "07050717677545475229"
     },
     "user_tz": -330
    },
    "id": "WMRauXzmjl4a",
    "outputId": "ee1bf851-fc81-491b-ae24-54e0e78ee3d6",
    "papermill": {
     "duration": 2.031947,
     "end_time": "2022-06-08T10:41:18.626271",
     "exception": false,
     "start_time": "2022-06-08T10:41:16.594324",
     "status": "completed"
    },
    "tags": []
   },
   "outputs": [
    {
     "data": {
      "text/plain": [
       "(51717, 16)"
      ]
     },
     "execution_count": 8,
     "metadata": {},
     "output_type": "execute_result"
    }
   ],
   "source": [
    "df.drop_duplicates(inplace=True)\n",
    "df.shape"
   ]
  },
  {
   "cell_type": "code",
   "execution_count": 9,
   "id": "ba1bddb1",
   "metadata": {
    "execution": {
     "iopub.execute_input": "2022-06-08T10:41:18.677952Z",
     "iopub.status.busy": "2022-06-08T10:41:18.677430Z",
     "iopub.status.idle": "2022-06-08T10:41:18.688897Z",
     "shell.execute_reply": "2022-06-08T10:41:18.687992Z"
    },
    "executionInfo": {
     "elapsed": 38,
     "status": "ok",
     "timestamp": 1652456911141,
     "user": {
      "displayName": "Mukul Deshantri",
      "userId": "07050717677545475229"
     },
     "user_tz": -330
    },
    "id": "qplciw1FkB6y",
    "outputId": "f4b6ca5b-8404-47d9-9a63-7db1f421b67e",
    "papermill": {
     "duration": 0.039545,
     "end_time": "2022-06-08T10:41:18.690792",
     "exception": false,
     "start_time": "2022-06-08T10:41:18.651247",
     "status": "completed"
    },
    "tags": []
   },
   "outputs": [
    {
     "data": {
      "text/plain": [
       "array(['4.1/5', '3.8/5', '3.7/5', '3.6/5', '4.6/5', '4.0/5', '4.2/5',\n",
       "       '3.9/5', '3.1/5', '3.0/5', '3.2/5', '3.3/5', '2.8/5', '4.4/5',\n",
       "       '4.3/5', 'NEW', '2.9/5', '3.5/5', nan, '2.6/5', '3.8 /5', '3.4/5',\n",
       "       '4.5/5', '2.5/5', '2.7/5', '4.7/5', '2.4/5', '2.2/5', '2.3/5',\n",
       "       '3.4 /5', '-', '3.6 /5', '4.8/5', '3.9 /5', '4.2 /5', '4.0 /5',\n",
       "       '4.1 /5', '3.7 /5', '3.1 /5', '2.9 /5', '3.3 /5', '2.8 /5',\n",
       "       '3.5 /5', '2.7 /5', '2.5 /5', '3.2 /5', '2.6 /5', '4.5 /5',\n",
       "       '4.3 /5', '4.4 /5', '4.9/5', '2.1/5', '2.0/5', '1.8/5', '4.6 /5',\n",
       "       '4.9 /5', '3.0 /5', '4.8 /5', '2.3 /5', '4.7 /5', '2.4 /5',\n",
       "       '2.1 /5', '2.2 /5', '2.0 /5', '1.8 /5'], dtype=object)"
      ]
     },
     "execution_count": 9,
     "metadata": {},
     "output_type": "execute_result"
    }
   ],
   "source": [
    "#cleaning rate column\n",
    "df.rate.unique()"
   ]
  },
  {
   "cell_type": "code",
   "execution_count": 10,
   "id": "18d2f91d",
   "metadata": {
    "execution": {
     "iopub.execute_input": "2022-06-08T10:41:18.741579Z",
     "iopub.status.busy": "2022-06-08T10:41:18.741167Z",
     "iopub.status.idle": "2022-06-08T10:41:18.826933Z",
     "shell.execute_reply": "2022-06-08T10:41:18.825944Z"
    },
    "executionInfo": {
     "elapsed": 38,
     "status": "ok",
     "timestamp": 1652456911143,
     "user": {
      "displayName": "Mukul Deshantri",
      "userId": "07050717677545475229"
     },
     "user_tz": -330
    },
    "id": "QKKSkrT7kfGK",
    "outputId": "00901380-307c-45e3-f6d2-808055d33b08",
    "papermill": {
     "duration": 0.113586,
     "end_time": "2022-06-08T10:41:18.828907",
     "exception": false,
     "start_time": "2022-06-08T10:41:18.715321",
     "status": "completed"
    },
    "tags": []
   },
   "outputs": [
    {
     "data": {
      "text/plain": [
       "array([4.1, 3.8, 3.7, 3.6, 4.6, 4. , 4.2, 3.9, 3.1, 3. , 3.2, 3.3, 2.8,\n",
       "       4.4, 4.3, nan, 2.9, 3.5, 2.6, 3.4, 4.5, 2.5, 2.7, 4.7, 2.4, 2.2,\n",
       "       2.3, 4.8, 4.9, 2.1, 2. , 1.8])"
      ]
     },
     "execution_count": 10,
     "metadata": {},
     "output_type": "execute_result"
    }
   ],
   "source": [
    "# We have to remove 'NEW' and '-' values from the column\n",
    "import numpy as np \n",
    "def filteredRate(value):\n",
    "  if value=='NEW' or value=='-':\n",
    "    return np.nan\n",
    "  else:\n",
    "    value=str(value).split('/')\n",
    "    value=value[0]\n",
    "    return float(value)\n",
    "df.rate=df.rate.apply(filteredRate)\n",
    "df.rate.unique()"
   ]
  },
  {
   "cell_type": "code",
   "execution_count": 11,
   "id": "460412e7",
   "metadata": {
    "execution": {
     "iopub.execute_input": "2022-06-08T10:41:18.880597Z",
     "iopub.status.busy": "2022-06-08T10:41:18.879927Z",
     "iopub.status.idle": "2022-06-08T10:41:18.886272Z",
     "shell.execute_reply": "2022-06-08T10:41:18.885427Z"
    },
    "executionInfo": {
     "elapsed": 37,
     "status": "ok",
     "timestamp": 1652456911143,
     "user": {
      "displayName": "Mukul Deshantri",
      "userId": "07050717677545475229"
     },
     "user_tz": -330
    },
    "id": "sJjlc0QFnDJU",
    "outputId": "2617fdb6-8385-4e6f-9f84-3f8dc989c9eb",
    "papermill": {
     "duration": 0.034138,
     "end_time": "2022-06-08T10:41:18.888061",
     "exception": false,
     "start_time": "2022-06-08T10:41:18.853923",
     "status": "completed"
    },
    "tags": []
   },
   "outputs": [
    {
     "data": {
      "text/plain": [
       "10052"
      ]
     },
     "execution_count": 11,
     "metadata": {},
     "output_type": "execute_result"
    }
   ],
   "source": [
    "df.rate.isnull().sum()"
   ]
  },
  {
   "cell_type": "code",
   "execution_count": 12,
   "id": "517eb193",
   "metadata": {
    "execution": {
     "iopub.execute_input": "2022-06-08T10:41:18.939781Z",
     "iopub.status.busy": "2022-06-08T10:41:18.939114Z",
     "iopub.status.idle": "2022-06-08T10:41:18.946777Z",
     "shell.execute_reply": "2022-06-08T10:41:18.946117Z"
    },
    "executionInfo": {
     "elapsed": 41,
     "status": "ok",
     "timestamp": 1652456911148,
     "user": {
      "displayName": "Mukul Deshantri",
      "userId": "07050717677545475229"
     },
     "user_tz": -330
    },
    "id": "HbtX2ZyBnJtx",
    "outputId": "e685a106-4ea1-4346-9424-7d82eb36f5c5",
    "papermill": {
     "duration": 0.035603,
     "end_time": "2022-06-08T10:41:18.948594",
     "exception": false,
     "start_time": "2022-06-08T10:41:18.912991",
     "status": "completed"
    },
    "tags": []
   },
   "outputs": [
    {
     "data": {
      "text/plain": [
       "0"
      ]
     },
     "execution_count": 12,
     "metadata": {},
     "output_type": "execute_result"
    }
   ],
   "source": [
    "#instead of null values we wil add the mean of the column\n",
    "df.rate.fillna(df.rate.mean(),inplace=True)\n",
    "df.rate.isnull().sum()"
   ]
  },
  {
   "cell_type": "code",
   "execution_count": 13,
   "id": "f70f2321",
   "metadata": {
    "execution": {
     "iopub.execute_input": "2022-06-08T10:41:18.999996Z",
     "iopub.status.busy": "2022-06-08T10:41:18.999357Z",
     "iopub.status.idle": "2022-06-08T10:41:19.095744Z",
     "shell.execute_reply": "2022-06-08T10:41:19.094606Z"
    },
    "executionInfo": {
     "elapsed": 41,
     "status": "ok",
     "timestamp": 1652456911150,
     "user": {
      "displayName": "Mukul Deshantri",
      "userId": "07050717677545475229"
     },
     "user_tz": -330
    },
    "id": "RGfUF6p-nfaS",
    "outputId": "ff2daeae-6eb4-4c29-b4e1-c7936bc13cbd",
    "papermill": {
     "duration": 0.124572,
     "end_time": "2022-06-08T10:41:19.098138",
     "exception": false,
     "start_time": "2022-06-08T10:41:18.973566",
     "status": "completed"
    },
    "tags": []
   },
   "outputs": [
    {
     "name": "stdout",
     "output_type": "stream",
     "text": [
      "<class 'pandas.core.frame.DataFrame'>\n",
      "Int64Index: 51717 entries, 0 to 51716\n",
      "Data columns (total 16 columns):\n",
      " #   Column                       Non-Null Count  Dtype  \n",
      "---  ------                       --------------  -----  \n",
      " 0   url                          51717 non-null  object \n",
      " 1   address                      51717 non-null  object \n",
      " 2   name                         51717 non-null  object \n",
      " 3   online_order                 51717 non-null  object \n",
      " 4   book_table                   51717 non-null  object \n",
      " 5   rate                         51717 non-null  float64\n",
      " 6   votes                        51717 non-null  int64  \n",
      " 7   phone                        50509 non-null  object \n",
      " 8   location                     51696 non-null  object \n",
      " 9   rest_type                    51490 non-null  object \n",
      " 10  dish_liked                   23639 non-null  object \n",
      " 11  cuisines                     51672 non-null  object \n",
      " 12  approx_cost(for two people)  51371 non-null  object \n",
      " 13  reviews_list                 51717 non-null  object \n",
      " 14  listed_in(type)              51717 non-null  object \n",
      " 15  listed_in(city)              51717 non-null  object \n",
      "dtypes: float64(1), int64(1), object(14)\n",
      "memory usage: 6.7+ MB\n"
     ]
    }
   ],
   "source": [
    "df.info()"
   ]
  },
  {
   "cell_type": "code",
   "execution_count": 14,
   "id": "d508be32",
   "metadata": {
    "execution": {
     "iopub.execute_input": "2022-06-08T10:41:19.150857Z",
     "iopub.status.busy": "2022-06-08T10:41:19.150177Z",
     "iopub.status.idle": "2022-06-08T10:41:19.266200Z",
     "shell.execute_reply": "2022-06-08T10:41:19.265284Z"
    },
    "executionInfo": {
     "elapsed": 42,
     "status": "ok",
     "timestamp": 1652456911155,
     "user": {
      "displayName": "Mukul Deshantri",
      "userId": "07050717677545475229"
     },
     "user_tz": -330
    },
    "id": "Ngpw5EgVnoQM",
    "outputId": "389cf26b-a3c9-466e-cd00-cf121ca46260",
    "papermill": {
     "duration": 0.144701,
     "end_time": "2022-06-08T10:41:19.268279",
     "exception": false,
     "start_time": "2022-06-08T10:41:19.123578",
     "status": "completed"
    },
    "tags": []
   },
   "outputs": [
    {
     "data": {
      "text/html": [
       "<div>\n",
       "<style scoped>\n",
       "    .dataframe tbody tr th:only-of-type {\n",
       "        vertical-align: middle;\n",
       "    }\n",
       "\n",
       "    .dataframe tbody tr th {\n",
       "        vertical-align: top;\n",
       "    }\n",
       "\n",
       "    .dataframe thead th {\n",
       "        text-align: right;\n",
       "    }\n",
       "</style>\n",
       "<table border=\"1\" class=\"dataframe\">\n",
       "  <thead>\n",
       "    <tr style=\"text-align: right;\">\n",
       "      <th></th>\n",
       "      <th>url</th>\n",
       "      <th>address</th>\n",
       "      <th>name</th>\n",
       "      <th>online_order</th>\n",
       "      <th>book_table</th>\n",
       "      <th>rate</th>\n",
       "      <th>votes</th>\n",
       "      <th>phone</th>\n",
       "      <th>location</th>\n",
       "      <th>rest_type</th>\n",
       "      <th>dish_liked</th>\n",
       "      <th>cuisines</th>\n",
       "      <th>approx_cost(for two people)</th>\n",
       "      <th>reviews_list</th>\n",
       "      <th>listed_in(type)</th>\n",
       "      <th>listed_in(city)</th>\n",
       "    </tr>\n",
       "  </thead>\n",
       "  <tbody>\n",
       "    <tr>\n",
       "      <th>0</th>\n",
       "      <td>https://www.zomato.com/bangalore/jalsa-banasha...</td>\n",
       "      <td>942, 21st Main Road, 2nd Stage, Banashankari, ...</td>\n",
       "      <td>Jalsa</td>\n",
       "      <td>Yes</td>\n",
       "      <td>Yes</td>\n",
       "      <td>4.1</td>\n",
       "      <td>775</td>\n",
       "      <td>080 42297555\\r\\n+91 9743772233</td>\n",
       "      <td>Banashankari</td>\n",
       "      <td>Casual Dining</td>\n",
       "      <td>Pasta, Lunch Buffet, Masala Papad, Paneer Laja...</td>\n",
       "      <td>North Indian, Mughlai, Chinese</td>\n",
       "      <td>800</td>\n",
       "      <td>[('Rated 4.0', 'RATED\\n  A beautiful place to ...</td>\n",
       "      <td>Buffet</td>\n",
       "      <td>Banashankari</td>\n",
       "    </tr>\n",
       "    <tr>\n",
       "      <th>1</th>\n",
       "      <td>https://www.zomato.com/bangalore/spice-elephan...</td>\n",
       "      <td>2nd Floor, 80 Feet Road, Near Big Bazaar, 6th ...</td>\n",
       "      <td>Spice Elephant</td>\n",
       "      <td>Yes</td>\n",
       "      <td>No</td>\n",
       "      <td>4.1</td>\n",
       "      <td>787</td>\n",
       "      <td>080 41714161</td>\n",
       "      <td>Banashankari</td>\n",
       "      <td>Casual Dining</td>\n",
       "      <td>Momos, Lunch Buffet, Chocolate Nirvana, Thai G...</td>\n",
       "      <td>Chinese, North Indian, Thai</td>\n",
       "      <td>800</td>\n",
       "      <td>[('Rated 4.0', 'RATED\\n  Had been here for din...</td>\n",
       "      <td>Buffet</td>\n",
       "      <td>Banashankari</td>\n",
       "    </tr>\n",
       "    <tr>\n",
       "      <th>2</th>\n",
       "      <td>https://www.zomato.com/SanchurroBangalore?cont...</td>\n",
       "      <td>1112, Next to KIMS Medical College, 17th Cross...</td>\n",
       "      <td>San Churro Cafe</td>\n",
       "      <td>Yes</td>\n",
       "      <td>No</td>\n",
       "      <td>3.8</td>\n",
       "      <td>918</td>\n",
       "      <td>+91 9663487993</td>\n",
       "      <td>Banashankari</td>\n",
       "      <td>Cafe, Casual Dining</td>\n",
       "      <td>Churros, Cannelloni, Minestrone Soup, Hot Choc...</td>\n",
       "      <td>Cafe, Mexican, Italian</td>\n",
       "      <td>800</td>\n",
       "      <td>[('Rated 3.0', \"RATED\\n  Ambience is not that ...</td>\n",
       "      <td>Buffet</td>\n",
       "      <td>Banashankari</td>\n",
       "    </tr>\n",
       "    <tr>\n",
       "      <th>3</th>\n",
       "      <td>https://www.zomato.com/bangalore/addhuri-udupi...</td>\n",
       "      <td>1st Floor, Annakuteera, 3rd Stage, Banashankar...</td>\n",
       "      <td>Addhuri Udupi Bhojana</td>\n",
       "      <td>No</td>\n",
       "      <td>No</td>\n",
       "      <td>3.7</td>\n",
       "      <td>88</td>\n",
       "      <td>+91 9620009302</td>\n",
       "      <td>Banashankari</td>\n",
       "      <td>Quick Bites</td>\n",
       "      <td>Masala Dosa</td>\n",
       "      <td>South Indian, North Indian</td>\n",
       "      <td>300</td>\n",
       "      <td>[('Rated 4.0', \"RATED\\n  Great food and proper...</td>\n",
       "      <td>Buffet</td>\n",
       "      <td>Banashankari</td>\n",
       "    </tr>\n",
       "    <tr>\n",
       "      <th>4</th>\n",
       "      <td>https://www.zomato.com/bangalore/grand-village...</td>\n",
       "      <td>10, 3rd Floor, Lakshmi Associates, Gandhi Baza...</td>\n",
       "      <td>Grand Village</td>\n",
       "      <td>No</td>\n",
       "      <td>No</td>\n",
       "      <td>3.8</td>\n",
       "      <td>166</td>\n",
       "      <td>+91 8026612447\\r\\n+91 9901210005</td>\n",
       "      <td>Basavanagudi</td>\n",
       "      <td>Casual Dining</td>\n",
       "      <td>Panipuri, Gol Gappe</td>\n",
       "      <td>North Indian, Rajasthani</td>\n",
       "      <td>600</td>\n",
       "      <td>[('Rated 4.0', 'RATED\\n  Very good restaurant ...</td>\n",
       "      <td>Buffet</td>\n",
       "      <td>Banashankari</td>\n",
       "    </tr>\n",
       "  </tbody>\n",
       "</table>\n",
       "</div>"
      ],
      "text/plain": [
       "                                                 url  \\\n",
       "0  https://www.zomato.com/bangalore/jalsa-banasha...   \n",
       "1  https://www.zomato.com/bangalore/spice-elephan...   \n",
       "2  https://www.zomato.com/SanchurroBangalore?cont...   \n",
       "3  https://www.zomato.com/bangalore/addhuri-udupi...   \n",
       "4  https://www.zomato.com/bangalore/grand-village...   \n",
       "\n",
       "                                             address                   name  \\\n",
       "0  942, 21st Main Road, 2nd Stage, Banashankari, ...                  Jalsa   \n",
       "1  2nd Floor, 80 Feet Road, Near Big Bazaar, 6th ...         Spice Elephant   \n",
       "2  1112, Next to KIMS Medical College, 17th Cross...        San Churro Cafe   \n",
       "3  1st Floor, Annakuteera, 3rd Stage, Banashankar...  Addhuri Udupi Bhojana   \n",
       "4  10, 3rd Floor, Lakshmi Associates, Gandhi Baza...          Grand Village   \n",
       "\n",
       "  online_order book_table  rate  votes                             phone  \\\n",
       "0          Yes        Yes   4.1    775    080 42297555\\r\\n+91 9743772233   \n",
       "1          Yes         No   4.1    787                      080 41714161   \n",
       "2          Yes         No   3.8    918                    +91 9663487993   \n",
       "3           No         No   3.7     88                    +91 9620009302   \n",
       "4           No         No   3.8    166  +91 8026612447\\r\\n+91 9901210005   \n",
       "\n",
       "       location            rest_type  \\\n",
       "0  Banashankari        Casual Dining   \n",
       "1  Banashankari        Casual Dining   \n",
       "2  Banashankari  Cafe, Casual Dining   \n",
       "3  Banashankari          Quick Bites   \n",
       "4  Basavanagudi        Casual Dining   \n",
       "\n",
       "                                          dish_liked  \\\n",
       "0  Pasta, Lunch Buffet, Masala Papad, Paneer Laja...   \n",
       "1  Momos, Lunch Buffet, Chocolate Nirvana, Thai G...   \n",
       "2  Churros, Cannelloni, Minestrone Soup, Hot Choc...   \n",
       "3                                        Masala Dosa   \n",
       "4                                Panipuri, Gol Gappe   \n",
       "\n",
       "                         cuisines approx_cost(for two people)  \\\n",
       "0  North Indian, Mughlai, Chinese                         800   \n",
       "1     Chinese, North Indian, Thai                         800   \n",
       "2          Cafe, Mexican, Italian                         800   \n",
       "3      South Indian, North Indian                         300   \n",
       "4        North Indian, Rajasthani                         600   \n",
       "\n",
       "                                        reviews_list listed_in(type)  \\\n",
       "0  [('Rated 4.0', 'RATED\\n  A beautiful place to ...          Buffet   \n",
       "1  [('Rated 4.0', 'RATED\\n  Had been here for din...          Buffet   \n",
       "2  [('Rated 3.0', \"RATED\\n  Ambience is not that ...          Buffet   \n",
       "3  [('Rated 4.0', \"RATED\\n  Great food and proper...          Buffet   \n",
       "4  [('Rated 4.0', 'RATED\\n  Very good restaurant ...          Buffet   \n",
       "\n",
       "  listed_in(city)  \n",
       "0    Banashankari  \n",
       "1    Banashankari  \n",
       "2    Banashankari  \n",
       "3    Banashankari  \n",
       "4    Banashankari  "
      ]
     },
     "execution_count": 14,
     "metadata": {},
     "output_type": "execute_result"
    }
   ],
   "source": [
    "df.dropna(inplace=True)\n",
    "df.head()"
   ]
  },
  {
   "cell_type": "code",
   "execution_count": 15,
   "id": "1d23e5fe",
   "metadata": {
    "execution": {
     "iopub.execute_input": "2022-06-08T10:41:19.322526Z",
     "iopub.status.busy": "2022-06-08T10:41:19.321504Z",
     "iopub.status.idle": "2022-06-08T10:41:19.344852Z",
     "shell.execute_reply": "2022-06-08T10:41:19.343886Z"
    },
    "executionInfo": {
     "elapsed": 41,
     "status": "ok",
     "timestamp": 1652456911156,
     "user": {
      "displayName": "Mukul Deshantri",
      "userId": "07050717677545475229"
     },
     "user_tz": -330
    },
    "id": "mqxBBElxoAUm",
    "outputId": "1f445b32-08a3-49f4-b8c7-987a901118cf",
    "papermill": {
     "duration": 0.052861,
     "end_time": "2022-06-08T10:41:19.346944",
     "exception": false,
     "start_time": "2022-06-08T10:41:19.294083",
     "status": "completed"
    },
    "tags": []
   },
   "outputs": [
    {
     "data": {
      "text/html": [
       "<div>\n",
       "<style scoped>\n",
       "    .dataframe tbody tr th:only-of-type {\n",
       "        vertical-align: middle;\n",
       "    }\n",
       "\n",
       "    .dataframe tbody tr th {\n",
       "        vertical-align: top;\n",
       "    }\n",
       "\n",
       "    .dataframe thead th {\n",
       "        text-align: right;\n",
       "    }\n",
       "</style>\n",
       "<table border=\"1\" class=\"dataframe\">\n",
       "  <thead>\n",
       "    <tr style=\"text-align: right;\">\n",
       "      <th></th>\n",
       "      <th>url</th>\n",
       "      <th>address</th>\n",
       "      <th>name</th>\n",
       "      <th>online_order</th>\n",
       "      <th>book_table</th>\n",
       "      <th>rate</th>\n",
       "      <th>votes</th>\n",
       "      <th>phone</th>\n",
       "      <th>location</th>\n",
       "      <th>rest_type</th>\n",
       "      <th>dish_liked</th>\n",
       "      <th>cuisines</th>\n",
       "      <th>costfor2</th>\n",
       "      <th>reviews_list</th>\n",
       "      <th>Type</th>\n",
       "      <th>listed_in(city)</th>\n",
       "    </tr>\n",
       "  </thead>\n",
       "  <tbody>\n",
       "    <tr>\n",
       "      <th>0</th>\n",
       "      <td>https://www.zomato.com/bangalore/jalsa-banasha...</td>\n",
       "      <td>942, 21st Main Road, 2nd Stage, Banashankari, ...</td>\n",
       "      <td>Jalsa</td>\n",
       "      <td>Yes</td>\n",
       "      <td>Yes</td>\n",
       "      <td>4.1</td>\n",
       "      <td>775</td>\n",
       "      <td>080 42297555\\r\\n+91 9743772233</td>\n",
       "      <td>Banashankari</td>\n",
       "      <td>Casual Dining</td>\n",
       "      <td>Pasta, Lunch Buffet, Masala Papad, Paneer Laja...</td>\n",
       "      <td>North Indian, Mughlai, Chinese</td>\n",
       "      <td>800</td>\n",
       "      <td>[('Rated 4.0', 'RATED\\n  A beautiful place to ...</td>\n",
       "      <td>Buffet</td>\n",
       "      <td>Banashankari</td>\n",
       "    </tr>\n",
       "    <tr>\n",
       "      <th>1</th>\n",
       "      <td>https://www.zomato.com/bangalore/spice-elephan...</td>\n",
       "      <td>2nd Floor, 80 Feet Road, Near Big Bazaar, 6th ...</td>\n",
       "      <td>Spice Elephant</td>\n",
       "      <td>Yes</td>\n",
       "      <td>No</td>\n",
       "      <td>4.1</td>\n",
       "      <td>787</td>\n",
       "      <td>080 41714161</td>\n",
       "      <td>Banashankari</td>\n",
       "      <td>Casual Dining</td>\n",
       "      <td>Momos, Lunch Buffet, Chocolate Nirvana, Thai G...</td>\n",
       "      <td>Chinese, North Indian, Thai</td>\n",
       "      <td>800</td>\n",
       "      <td>[('Rated 4.0', 'RATED\\n  Had been here for din...</td>\n",
       "      <td>Buffet</td>\n",
       "      <td>Banashankari</td>\n",
       "    </tr>\n",
       "  </tbody>\n",
       "</table>\n",
       "</div>"
      ],
      "text/plain": [
       "                                                 url  \\\n",
       "0  https://www.zomato.com/bangalore/jalsa-banasha...   \n",
       "1  https://www.zomato.com/bangalore/spice-elephan...   \n",
       "\n",
       "                                             address            name  \\\n",
       "0  942, 21st Main Road, 2nd Stage, Banashankari, ...           Jalsa   \n",
       "1  2nd Floor, 80 Feet Road, Near Big Bazaar, 6th ...  Spice Elephant   \n",
       "\n",
       "  online_order book_table  rate  votes                           phone  \\\n",
       "0          Yes        Yes   4.1    775  080 42297555\\r\\n+91 9743772233   \n",
       "1          Yes         No   4.1    787                    080 41714161   \n",
       "\n",
       "       location      rest_type  \\\n",
       "0  Banashankari  Casual Dining   \n",
       "1  Banashankari  Casual Dining   \n",
       "\n",
       "                                          dish_liked  \\\n",
       "0  Pasta, Lunch Buffet, Masala Papad, Paneer Laja...   \n",
       "1  Momos, Lunch Buffet, Chocolate Nirvana, Thai G...   \n",
       "\n",
       "                         cuisines costfor2  \\\n",
       "0  North Indian, Mughlai, Chinese      800   \n",
       "1     Chinese, North Indian, Thai      800   \n",
       "\n",
       "                                        reviews_list    Type listed_in(city)  \n",
       "0  [('Rated 4.0', 'RATED\\n  A beautiful place to ...  Buffet    Banashankari  \n",
       "1  [('Rated 4.0', 'RATED\\n  Had been here for din...  Buffet    Banashankari  "
      ]
     },
     "execution_count": 15,
     "metadata": {},
     "output_type": "execute_result"
    }
   ],
   "source": [
    "df.rename(columns={'approx_cost(for two people)':'costfor2','listed_in(type)':'Type'}, inplace=True)\n",
    "df.head(2)"
   ]
  },
  {
   "cell_type": "code",
   "execution_count": 16,
   "id": "93383863",
   "metadata": {
    "execution": {
     "iopub.execute_input": "2022-06-08T10:41:19.400518Z",
     "iopub.status.busy": "2022-06-08T10:41:19.399834Z",
     "iopub.status.idle": "2022-06-08T10:41:19.409156Z",
     "shell.execute_reply": "2022-06-08T10:41:19.408127Z"
    },
    "executionInfo": {
     "elapsed": 41,
     "status": "ok",
     "timestamp": 1652456911158,
     "user": {
      "displayName": "Mukul Deshantri",
      "userId": "07050717677545475229"
     },
     "user_tz": -330
    },
    "id": "QE31CSUGo1lP",
    "outputId": "878725e8-0469-4665-896d-124ca6cab285",
    "papermill": {
     "duration": 0.038014,
     "end_time": "2022-06-08T10:41:19.411062",
     "exception": false,
     "start_time": "2022-06-08T10:41:19.373048",
     "status": "completed"
    },
    "tags": []
   },
   "outputs": [
    {
     "data": {
      "text/plain": [
       "array(['Banashankari', 'Basavanagudi', 'Jayanagar', 'Kumaraswamy Layout',\n",
       "       'Rajarajeshwari Nagar', 'Mysore Road', 'Uttarahalli',\n",
       "       'South Bangalore', 'Vijay Nagar', 'Bannerghatta Road', 'JP Nagar',\n",
       "       'BTM', 'Wilson Garden', 'Koramangala 5th Block', 'Shanti Nagar',\n",
       "       'Richmond Road', 'City Market', 'Bellandur', 'Sarjapur Road',\n",
       "       'Marathahalli', 'HSR', 'Old Airport Road', 'Indiranagar',\n",
       "       'Koramangala 1st Block', 'East Bangalore', 'MG Road',\n",
       "       'Brigade Road', 'Lavelle Road', 'Church Street', 'Ulsoor',\n",
       "       'Residency Road', 'Shivajinagar', 'Infantry Road',\n",
       "       'St. Marks Road', 'Cunningham Road', 'Race Course Road', 'Domlur',\n",
       "       'Koramangala 8th Block', 'Frazer Town', 'Ejipura', 'Vasanth Nagar',\n",
       "       'Jeevan Bhima Nagar', 'Old Madras Road', 'Commercial Street',\n",
       "       'Koramangala 6th Block', 'Majestic', 'Langford Town',\n",
       "       'Koramangala 7th Block', 'Brookefield', 'Whitefield',\n",
       "       'ITPL Main Road, Whitefield', 'Varthur Main Road, Whitefield',\n",
       "       'Koramangala 2nd Block', 'Koramangala 3rd Block',\n",
       "       'Koramangala 4th Block', 'Koramangala', 'Bommanahalli',\n",
       "       'Hosur Road', 'Seshadripuram', 'Electronic City', 'Banaswadi',\n",
       "       'North Bangalore', 'RT Nagar', 'Kammanahalli', 'Hennur',\n",
       "       'HBR Layout', 'Kalyan Nagar', 'Thippasandra', 'CV Raman Nagar',\n",
       "       'Kaggadasapura', 'Kanakapura Road', 'Nagawara', 'Rammurthy Nagar',\n",
       "       'Sankey Road', 'Central Bangalore', 'Malleshwaram',\n",
       "       'Sadashiv Nagar', 'Basaveshwara Nagar', 'Rajajinagar',\n",
       "       'New BEL Road', 'West Bangalore', 'Yeshwantpur', 'Sanjay Nagar',\n",
       "       'Sahakara Nagar', 'Jalahalli', 'Yelahanka', 'Magadi Road',\n",
       "       'KR Puram'], dtype=object)"
      ]
     },
     "execution_count": 16,
     "metadata": {},
     "output_type": "execute_result"
    }
   ],
   "source": [
    "df.location.unique()"
   ]
  },
  {
   "cell_type": "code",
   "execution_count": 17,
   "id": "6b308b3e",
   "metadata": {
    "execution": {
     "iopub.execute_input": "2022-06-08T10:41:19.464276Z",
     "iopub.status.busy": "2022-06-08T10:41:19.463557Z",
     "iopub.status.idle": "2022-06-08T10:41:19.472488Z",
     "shell.execute_reply": "2022-06-08T10:41:19.471742Z"
    },
    "executionInfo": {
     "elapsed": 41,
     "status": "ok",
     "timestamp": 1652456911159,
     "user": {
      "displayName": "Mukul Deshantri",
      "userId": "07050717677545475229"
     },
     "user_tz": -330
    },
    "id": "Sylok99npGrf",
    "outputId": "44c23ed7-7fe6-4343-c5e0-e84d87ccbf69",
    "papermill": {
     "duration": 0.037636,
     "end_time": "2022-06-08T10:41:19.474335",
     "exception": false,
     "start_time": "2022-06-08T10:41:19.436699",
     "status": "completed"
    },
    "tags": []
   },
   "outputs": [
    {
     "data": {
      "text/plain": [
       "array(['800', '300', '600', '700', '550', '500', '450', '650', '400',\n",
       "       '750', '200', '850', '1,200', '150', '350', '250', '1,500',\n",
       "       '1,300', '1,000', '100', '900', '1,100', '1,600', '950', '230',\n",
       "       '1,700', '1,400', '1,350', '2,200', '2,000', '1,800', '1,900',\n",
       "       '180', '330', '2,500', '2,100', '3,000', '2,800', '3,400', '40',\n",
       "       '1,250', '3,500', '4,000', '2,400', '1,450', '3,200', '6,000',\n",
       "       '1,050', '4,100', '2,300', '120', '2,600', '5,000', '3,700',\n",
       "       '1,650', '2,700', '4,500'], dtype=object)"
      ]
     },
     "execution_count": 17,
     "metadata": {},
     "output_type": "execute_result"
    }
   ],
   "source": [
    "df.costfor2.unique()"
   ]
  },
  {
   "cell_type": "code",
   "execution_count": 18,
   "id": "ee4b7e97",
   "metadata": {
    "execution": {
     "iopub.execute_input": "2022-06-08T10:41:19.527946Z",
     "iopub.status.busy": "2022-06-08T10:41:19.527565Z",
     "iopub.status.idle": "2022-06-08T10:41:19.563558Z",
     "shell.execute_reply": "2022-06-08T10:41:19.562597Z"
    },
    "executionInfo": {
     "elapsed": 41,
     "status": "ok",
     "timestamp": 1652456911160,
     "user": {
      "displayName": "Mukul Deshantri",
      "userId": "07050717677545475229"
     },
     "user_tz": -330
    },
    "id": "wMpbhu3mpmvX",
    "outputId": "5d9adc7b-87c8-4023-e708-f73df6dd1b64",
    "papermill": {
     "duration": 0.065473,
     "end_time": "2022-06-08T10:41:19.565748",
     "exception": false,
     "start_time": "2022-06-08T10:41:19.500275",
     "status": "completed"
    },
    "tags": []
   },
   "outputs": [
    {
     "data": {
      "text/plain": [
       "array([ 800.,  300.,  600.,  700.,  550.,  500.,  450.,  650.,  400.,\n",
       "        750.,  200.,  850., 1200.,  150.,  350.,  250., 1500., 1300.,\n",
       "       1000.,  100.,  900., 1100., 1600.,  950.,  230., 1700., 1400.,\n",
       "       1350., 2200., 2000., 1800., 1900.,  180.,  330., 2500., 2100.,\n",
       "       3000., 2800., 3400.,   40., 1250., 3500., 4000., 2400., 1450.,\n",
       "       3200., 6000., 1050., 4100., 2300.,  120., 2600., 5000., 3700.,\n",
       "       1650., 2700., 4500.])"
      ]
     },
     "execution_count": 18,
     "metadata": {},
     "output_type": "execute_result"
    }
   ],
   "source": [
    "#remove , from the cost\n",
    "def remcomma(value):\n",
    "  value=str(value)\n",
    "  if ',' in value:\n",
    "    value=value.replace(',','')\n",
    "    return float(value)\n",
    "  else:\n",
    "    return float(value)\n",
    "df.costfor2=df.costfor2.apply(remcomma)\n",
    "df.costfor2.unique()"
   ]
  },
  {
   "cell_type": "code",
   "execution_count": 19,
   "id": "583d7df2",
   "metadata": {
    "execution": {
     "iopub.execute_input": "2022-06-08T10:41:19.619783Z",
     "iopub.status.busy": "2022-06-08T10:41:19.619061Z",
     "iopub.status.idle": "2022-06-08T10:41:19.631123Z",
     "shell.execute_reply": "2022-06-08T10:41:19.630090Z"
    },
    "executionInfo": {
     "elapsed": 43,
     "status": "ok",
     "timestamp": 1652456911163,
     "user": {
      "displayName": "Mukul Deshantri",
      "userId": "07050717677545475229"
     },
     "user_tz": -330
    },
    "id": "Wti0fd4bsak8",
    "outputId": "e7b72133-f47a-40e1-d354-4ea744d06d00",
    "papermill": {
     "duration": 0.041339,
     "end_time": "2022-06-08T10:41:19.633105",
     "exception": false,
     "start_time": "2022-06-08T10:41:19.591766",
     "status": "completed"
    },
    "tags": []
   },
   "outputs": [
    {
     "data": {
      "text/plain": [
       "Casual Dining                7365\n",
       "Quick Bites                  5243\n",
       "Cafe                         2329\n",
       "Dessert Parlor               1076\n",
       "Casual Dining, Bar            987\n",
       "                             ... \n",
       "Fine Dining, Microbrewery       5\n",
       "Club, Casual Dining             4\n",
       "Dessert Parlor, Kiosk           2\n",
       "Dhaba                           1\n",
       "Food Court, Casual Dining       1\n",
       "Name: rest_type, Length: 73, dtype: int64"
      ]
     },
     "execution_count": 19,
     "metadata": {},
     "output_type": "execute_result"
    }
   ],
   "source": [
    "#cleaning rest type\n",
    "df.rest_type.value_counts()\n",
    "#as we can see some of the values have only 1 or 2 values. so we can group them and name them as others"
   ]
  },
  {
   "cell_type": "code",
   "execution_count": 20,
   "id": "5b22f675",
   "metadata": {
    "execution": {
     "iopub.execute_input": "2022-06-08T10:41:19.687691Z",
     "iopub.status.busy": "2022-06-08T10:41:19.686981Z",
     "iopub.status.idle": "2022-06-08T10:41:19.699704Z",
     "shell.execute_reply": "2022-06-08T10:41:19.698753Z"
    },
    "executionInfo": {
     "elapsed": 44,
     "status": "ok",
     "timestamp": 1652456911165,
     "user": {
      "displayName": "Mukul Deshantri",
      "userId": "07050717677545475229"
     },
     "user_tz": -330
    },
    "id": "lridNJyVsHKu",
    "outputId": "d1219653-892b-4d07-8191-a0fbfb43f2ac",
    "papermill": {
     "duration": 0.04239,
     "end_time": "2022-06-08T10:41:19.701746",
     "exception": false,
     "start_time": "2022-06-08T10:41:19.659356",
     "status": "completed"
    },
    "tags": []
   },
   "outputs": [
    {
     "data": {
      "text/plain": [
       "Bar                          357\n",
       "Bar, Casual Dining           343\n",
       "Takeaway, Delivery           343\n",
       "Pub                          327\n",
       "Lounge                       313\n",
       "                            ... \n",
       "Fine Dining, Microbrewery      5\n",
       "Club, Casual Dining            4\n",
       "Dessert Parlor, Kiosk          2\n",
       "Dhaba                          1\n",
       "Food Court, Casual Dining      1\n",
       "Name: rest_type, Length: 67, dtype: int64"
      ]
     },
     "execution_count": 20,
     "metadata": {},
     "output_type": "execute_result"
    }
   ],
   "source": [
    "rest_types=df.rest_type.value_counts()\n",
    "resttypes_lessthan500 = rest_types[rest_types<500]\n",
    "resttypes_lessthan500"
   ]
  },
  {
   "cell_type": "code",
   "execution_count": 21,
   "id": "ad4ab896",
   "metadata": {
    "execution": {
     "iopub.execute_input": "2022-06-08T10:41:19.756236Z",
     "iopub.status.busy": "2022-06-08T10:41:19.755292Z",
     "iopub.status.idle": "2022-06-08T10:41:19.803083Z",
     "shell.execute_reply": "2022-06-08T10:41:19.801912Z"
    },
    "executionInfo": {
     "elapsed": 44,
     "status": "ok",
     "timestamp": 1652456911167,
     "user": {
      "displayName": "Mukul Deshantri",
      "userId": "07050717677545475229"
     },
     "user_tz": -330
    },
    "id": "2mM8yyEOuCbA",
    "outputId": "1b8d8649-59d6-4428-d1db-0dd1fdb05d00",
    "papermill": {
     "duration": 0.077248,
     "end_time": "2022-06-08T10:41:19.805264",
     "exception": false,
     "start_time": "2022-06-08T10:41:19.728016",
     "status": "completed"
    },
    "tags": []
   },
   "outputs": [
    {
     "data": {
      "text/plain": [
       "Casual Dining         7365\n",
       "Others                5552\n",
       "Quick Bites           5243\n",
       "Cafe                  2329\n",
       "Dessert Parlor        1076\n",
       "Casual Dining, Bar     987\n",
       "Delivery               670\n",
       "Name: rest_type, dtype: int64"
      ]
     },
     "execution_count": 21,
     "metadata": {},
     "output_type": "execute_result"
    }
   ],
   "source": [
    "#clusturing and naming as other to all the above\n",
    "def lessRestType(value):\n",
    "  if value in resttypes_lessthan500:\n",
    "    return 'Others'\n",
    "  else:\n",
    "    return value\n",
    "df.rest_type=df.rest_type.apply(lessRestType)\n",
    "df.rest_type.value_counts()"
   ]
  },
  {
   "cell_type": "code",
   "execution_count": 22,
   "id": "18503d22",
   "metadata": {
    "execution": {
     "iopub.execute_input": "2022-06-08T10:41:19.860018Z",
     "iopub.status.busy": "2022-06-08T10:41:19.859596Z",
     "iopub.status.idle": "2022-06-08T10:41:19.870227Z",
     "shell.execute_reply": "2022-06-08T10:41:19.869539Z"
    },
    "executionInfo": {
     "elapsed": 44,
     "status": "ok",
     "timestamp": 1652456911168,
     "user": {
      "displayName": "Mukul Deshantri",
      "userId": "07050717677545475229"
     },
     "user_tz": -330
    },
    "id": "tSj2i9p_u4wm",
    "outputId": "9dd41efa-6bf5-4224-c75f-32da777e8fda",
    "papermill": {
     "duration": 0.04054,
     "end_time": "2022-06-08T10:41:19.872295",
     "exception": false,
     "start_time": "2022-06-08T10:41:19.831755",
     "status": "completed"
    },
    "tags": []
   },
   "outputs": [
    {
     "data": {
      "text/plain": [
       "Koramangala 5th Block    1784\n",
       "BTM                      1460\n",
       "Indiranagar              1350\n",
       "HSR                      1162\n",
       "Jayanagar                1047\n",
       "                         ... \n",
       "Yelahanka                   2\n",
       "Kanakapura Road             2\n",
       "West Bangalore              2\n",
       "Rajarajeshwari Nagar        2\n",
       "KR Puram                    1\n",
       "Name: location, Length: 88, dtype: int64"
      ]
     },
     "execution_count": 22,
     "metadata": {},
     "output_type": "execute_result"
    }
   ],
   "source": [
    "#Checing location column\n",
    "df.location.value_counts()\n",
    "#Here aslo we see that some location have very less restaurants"
   ]
  },
  {
   "cell_type": "code",
   "execution_count": 23,
   "id": "af43b3ef",
   "metadata": {
    "execution": {
     "iopub.execute_input": "2022-06-08T10:41:19.927553Z",
     "iopub.status.busy": "2022-06-08T10:41:19.926721Z",
     "iopub.status.idle": "2022-06-08T10:41:19.936201Z",
     "shell.execute_reply": "2022-06-08T10:41:19.935261Z"
    },
    "id": "K22an2Iky-Wp",
    "papermill": {
     "duration": 0.039165,
     "end_time": "2022-06-08T10:41:19.938259",
     "exception": false,
     "start_time": "2022-06-08T10:41:19.899094",
     "status": "completed"
    },
    "tags": []
   },
   "outputs": [],
   "source": [
    "Res=df.location.value_counts()\n",
    "lessRes=Res[Res<200]"
   ]
  },
  {
   "cell_type": "code",
   "execution_count": 24,
   "id": "d907170e",
   "metadata": {
    "execution": {
     "iopub.execute_input": "2022-06-08T10:41:19.993624Z",
     "iopub.status.busy": "2022-06-08T10:41:19.993194Z",
     "iopub.status.idle": "2022-06-08T10:41:20.040853Z",
     "shell.execute_reply": "2022-06-08T10:41:20.039923Z"
    },
    "executionInfo": {
     "elapsed": 11,
     "status": "ok",
     "timestamp": 1652456912138,
     "user": {
      "displayName": "Mukul Deshantri",
      "userId": "07050717677545475229"
     },
     "user_tz": -330
    },
    "id": "uic6jGhUyE2M",
    "outputId": "0292f7bb-8fbe-4f0e-ae98-2bd54b5090e6",
    "papermill": {
     "duration": 0.077846,
     "end_time": "2022-06-08T10:41:20.042860",
     "exception": false,
     "start_time": "2022-06-08T10:41:19.965014",
     "status": "completed"
    },
    "tags": []
   },
   "outputs": [
    {
     "data": {
      "text/plain": [
       "Others                   2483\n",
       "Koramangala 5th Block    1784\n",
       "BTM                      1460\n",
       "Indiranagar              1350\n",
       "HSR                      1162\n",
       "Jayanagar                1047\n",
       "JP Nagar                 1025\n",
       "Whitefield                824\n",
       "Koramangala 7th Block     725\n",
       "Koramangala 6th Block     720\n",
       "Marathahalli              683\n",
       "Koramangala 4th Block     644\n",
       "MG Road                   596\n",
       "Brigade Road              570\n",
       "Church Street             508\n",
       "Bannerghatta Road         497\n",
       "Ulsoor                    477\n",
       "Kalyan Nagar              467\n",
       "Koramangala 1st Block     467\n",
       "Bellandur                 462\n",
       "Sarjapur Road             456\n",
       "Lavelle Road              445\n",
       "Residency Road            442\n",
       "Banashankari              390\n",
       "Malleshwaram              366\n",
       "Richmond Road             351\n",
       "Cunningham Road           333\n",
       "Electronic City           327\n",
       "Brookefield               307\n",
       "St. Marks Road            304\n",
       "New BEL Road              303\n",
       "Frazer Town               293\n",
       "Basavanagudi              286\n",
       "Kammanahalli              260\n",
       "Domlur                    206\n",
       "Old Airport Road          202\n",
       "Name: location, dtype: int64"
      ]
     },
     "execution_count": 24,
     "metadata": {},
     "output_type": "execute_result"
    }
   ],
   "source": [
    "#grouping all the locations having less than 360 restaurants\n",
    "def locWithLessRes(value):\n",
    "  if value in lessRes:\n",
    "    return 'Others'\n",
    "  else:\n",
    "    return value\n",
    "df.location=df.location.apply(locWithLessRes)\n",
    "df.location.value_counts()"
   ]
  },
  {
   "cell_type": "code",
   "execution_count": 25,
   "id": "be330690",
   "metadata": {
    "execution": {
     "iopub.execute_input": "2022-06-08T10:41:20.098366Z",
     "iopub.status.busy": "2022-06-08T10:41:20.097986Z",
     "iopub.status.idle": "2022-06-08T10:41:20.110915Z",
     "shell.execute_reply": "2022-06-08T10:41:20.109909Z"
    },
    "executionInfo": {
     "elapsed": 11,
     "status": "ok",
     "timestamp": 1652456912139,
     "user": {
      "displayName": "Mukul Deshantri",
      "userId": "07050717677545475229"
     },
     "user_tz": -330
    },
    "id": "nGBf4Uyf0uRu",
    "outputId": "f1274cfe-3796-4d91-cab5-3f3f7d52b6d0",
    "papermill": {
     "duration": 0.043385,
     "end_time": "2022-06-08T10:41:20.112856",
     "exception": false,
     "start_time": "2022-06-08T10:41:20.069471",
     "status": "completed"
    },
    "tags": []
   },
   "outputs": [
    {
     "data": {
      "text/plain": [
       "North Indian                                                  1144\n",
       "North Indian, Chinese                                          777\n",
       "South Indian                                                   360\n",
       "Cafe                                                           273\n",
       "South Indian, North Indian, Chinese                            233\n",
       "                                                              ... \n",
       "Cafe, Salad, Healthy Food, Mexican                               1\n",
       "Biryani, Chettinad, Chinese                                      1\n",
       "North Indian, South Indian, Chinese, Desserts, Street Food       1\n",
       "North Indian, Chinese, South Indian, Juices                      1\n",
       "Thai, Chinese, Momos                                             1\n",
       "Name: cuisines, Length: 1687, dtype: int64"
      ]
     },
     "execution_count": 25,
     "metadata": {},
     "output_type": "execute_result"
    }
   ],
   "source": [
    "#checking cusinies column\n",
    "df.cuisines.value_counts()"
   ]
  },
  {
   "cell_type": "code",
   "execution_count": 26,
   "id": "4321db35",
   "metadata": {
    "execution": {
     "iopub.execute_input": "2022-06-08T10:41:20.169216Z",
     "iopub.status.busy": "2022-06-08T10:41:20.168388Z",
     "iopub.status.idle": "2022-06-08T10:41:20.181802Z",
     "shell.execute_reply": "2022-06-08T10:41:20.180863Z"
    },
    "executionInfo": {
     "elapsed": 10,
     "status": "ok",
     "timestamp": 1652456912139,
     "user": {
      "displayName": "Mukul Deshantri",
      "userId": "07050717677545475229"
     },
     "user_tz": -330
    },
    "id": "xH-Sec7I1Mv4",
    "outputId": "b9f7919d-4639-47a7-8018-e2619042e233",
    "papermill": {
     "duration": 0.043625,
     "end_time": "2022-06-08T10:41:20.183648",
     "exception": false,
     "start_time": "2022-06-08T10:41:20.140023",
     "status": "completed"
    },
    "tags": []
   },
   "outputs": [
    {
     "data": {
      "text/plain": [
       "Italian, Pizza                                                68\n",
       "Modern Indian                                                 65\n",
       "Bakery                                                        65\n",
       "Burger, Fast Food, Beverages                                  64\n",
       "North Indian, Chinese, Seafood                                64\n",
       "                                                              ..\n",
       "Cafe, Salad, Healthy Food, Mexican                             1\n",
       "Biryani, Chettinad, Chinese                                    1\n",
       "North Indian, South Indian, Chinese, Desserts, Street Food     1\n",
       "North Indian, Chinese, South Indian, Juices                    1\n",
       "Thai, Chinese, Momos                                           1\n",
       "Name: cuisines, Length: 1643, dtype: int64"
      ]
     },
     "execution_count": 26,
     "metadata": {},
     "output_type": "execute_result"
    }
   ],
   "source": [
    "cus=df.cuisines.value_counts()\n",
    "low_cus=cus[cus<70]\n",
    "low_cus"
   ]
  },
  {
   "cell_type": "code",
   "execution_count": 27,
   "id": "5d2abc5a",
   "metadata": {
    "execution": {
     "iopub.execute_input": "2022-06-08T10:41:20.239896Z",
     "iopub.status.busy": "2022-06-08T10:41:20.239174Z",
     "iopub.status.idle": "2022-06-08T10:41:20.288818Z",
     "shell.execute_reply": "2022-06-08T10:41:20.287755Z"
    },
    "executionInfo": {
     "elapsed": 9,
     "status": "ok",
     "timestamp": 1652456912140,
     "user": {
      "displayName": "Mukul Deshantri",
      "userId": "07050717677545475229"
     },
     "user_tz": -330
    },
    "id": "KaUdaY3a09zs",
    "outputId": "8dae11b6-a2dd-47ec-8d59-5d7cf418c102",
    "papermill": {
     "duration": 0.079951,
     "end_time": "2022-06-08T10:41:20.291116",
     "exception": false,
     "start_time": "2022-06-08T10:41:20.211165",
     "status": "completed"
    },
    "tags": []
   },
   "outputs": [
    {
     "data": {
      "text/plain": [
       "Others                                              15959\n",
       "North Indian                                         1144\n",
       "North Indian, Chinese                                 777\n",
       "South Indian                                          360\n",
       "Cafe                                                  273\n",
       "South Indian, North Indian, Chinese                   233\n",
       "Bakery, Desserts                                      216\n",
       "Desserts, Beverages                                   214\n",
       "Chinese                                               210\n",
       "Ice Cream, Desserts                                   208\n",
       "Desserts                                              206\n",
       "Biryani                                               169\n",
       "Chinese, Momos                                        162\n",
       "Finger Food                                           151\n",
       "Fast Food                                             150\n",
       "North Indian, Chinese, Biryani                        139\n",
       "Mithai, Street Food                                   138\n",
       "North Indian, Mughlai                                 134\n",
       "Burger, Fast Food                                     132\n",
       "Cafe, Continental                                     125\n",
       "Desserts, Ice Cream                                   122\n",
       "Chinese, Thai                                         117\n",
       "Pizza, Fast Food                                      106\n",
       "South Indian, North Indian, Chinese, Street Food      103\n",
       "Biryani, North Indian                                  97\n",
       "North Indian, Street Food                              94\n",
       "Biryani, North Indian, Chinese                         94\n",
       "Cafe, Desserts                                         85\n",
       "Pizza, Cafe, Italian                                   85\n",
       "Chinese, Thai, Momos                                   83\n",
       "Pizza                                                  83\n",
       "Continental                                            82\n",
       "North Indian, Biryani                                  82\n",
       "Andhra, Biryani, North Indian, Chinese                 79\n",
       "North Indian, South Indian                             79\n",
       "North Indian, South Indian, Chinese                    78\n",
       "Cafe, Continental, Italian, Burger                     78\n",
       "North Indian, Chinese, Fast Food                       76\n",
       "Chinese, North Indian                                  73\n",
       "Cafe, Continental, Italian                             72\n",
       "South Indian, North Indian                             72\n",
       "North Indian, Continental, Chinese                     72\n",
       "Biryani, Kebab                                         70\n",
       "North Indian, Continental                              70\n",
       "Cafe, Italian                                          70\n",
       "Name: cuisines, dtype: int64"
      ]
     },
     "execution_count": 27,
     "metadata": {},
     "output_type": "execute_result"
    }
   ],
   "source": [
    "#As done above here also we wll create a cluster\n",
    "def lessCusinies(value):\n",
    "  if value in low_cus:\n",
    "    return 'Others'\n",
    "  else:\n",
    "    return value\n",
    "df.cuisines=df.cuisines.apply(lessCusinies)\n",
    "df.cuisines.value_counts()"
   ]
  },
  {
   "cell_type": "code",
   "execution_count": 28,
   "id": "1e3558d2",
   "metadata": {
    "execution": {
     "iopub.execute_input": "2022-06-08T10:41:20.353059Z",
     "iopub.status.busy": "2022-06-08T10:41:20.352663Z",
     "iopub.status.idle": "2022-06-08T10:41:20.363129Z",
     "shell.execute_reply": "2022-06-08T10:41:20.362266Z"
    },
    "executionInfo": {
     "elapsed": 9,
     "status": "ok",
     "timestamp": 1652456912141,
     "user": {
      "displayName": "Mukul Deshantri",
      "userId": "07050717677545475229"
     },
     "user_tz": -330
    },
    "id": "Qh73X9Rv2aSc",
    "outputId": "cb911653-0838-41b9-e766-12938f0c472a",
    "papermill": {
     "duration": 0.040924,
     "end_time": "2022-06-08T10:41:20.365113",
     "exception": false,
     "start_time": "2022-06-08T10:41:20.324189",
     "status": "completed"
    },
    "tags": []
   },
   "outputs": [
    {
     "data": {
      "text/plain": [
       "Delivery              10628\n",
       "Dine-out               8035\n",
       "Desserts               1333\n",
       "Cafes                  1047\n",
       "Drinks & nightlife      890\n",
       "Buffet                  762\n",
       "Pubs and bars           527\n",
       "Name: Type, dtype: int64"
      ]
     },
     "execution_count": 28,
     "metadata": {},
     "output_type": "execute_result"
    }
   ],
   "source": [
    "#checing Type\n",
    "df.Type.value_counts()"
   ]
  },
  {
   "cell_type": "markdown",
   "id": "382d05b9",
   "metadata": {
    "id": "rwTvcm60fVle",
    "papermill": {
     "duration": 0.026934,
     "end_time": "2022-06-08T10:41:20.419585",
     "exception": false,
     "start_time": "2022-06-08T10:41:20.392651",
     "status": "completed"
    },
    "tags": []
   },
   "source": []
  },
  {
   "cell_type": "markdown",
   "id": "f55b33f0",
   "metadata": {
    "id": "tV8-n32r2rdy",
    "papermill": {
     "duration": 0.02629,
     "end_time": "2022-06-08T10:41:20.473183",
     "exception": false,
     "start_time": "2022-06-08T10:41:20.446893",
     "status": "completed"
    },
    "tags": []
   },
   "source": [
    "# Exploratory Analysis and Visualization\n",
    " - Will analyze the cleaned data\n",
    " - Plot graphs and charts to make visualization better"
   ]
  },
  {
   "cell_type": "code",
   "execution_count": 29,
   "id": "11fd6483",
   "metadata": {
    "execution": {
     "iopub.execute_input": "2022-06-08T10:41:20.529108Z",
     "iopub.status.busy": "2022-06-08T10:41:20.528491Z",
     "iopub.status.idle": "2022-06-08T10:41:22.169461Z",
     "shell.execute_reply": "2022-06-08T10:41:22.168473Z"
    },
    "executionInfo": {
     "elapsed": 856,
     "status": "ok",
     "timestamp": 1652456936136,
     "user": {
      "displayName": "Mukul Deshantri",
      "userId": "07050717677545475229"
     },
     "user_tz": -330
    },
    "id": "2HmbG7N129S5",
    "outputId": "dc6b3065-e18f-45ff-ab16-b7457016b3c7",
    "papermill": {
     "duration": 1.672742,
     "end_time": "2022-06-08T10:41:22.172788",
     "exception": false,
     "start_time": "2022-06-08T10:41:20.500046",
     "status": "completed"
    },
    "tags": []
   },
   "outputs": [
    {
     "name": "stderr",
     "output_type": "stream",
     "text": [
      "/opt/conda/lib/python3.7/site-packages/seaborn/_decorators.py:43: FutureWarning: Pass the following variable as a keyword arg: x. From version 0.12, the only valid positional argument will be `data`, and passing other arguments without an explicit keyword will result in an error or misinterpretation.\n",
      "  FutureWarning\n"
     ]
    },
    {
     "data": {
      "text/plain": [
       "Text(0.5, 1.0, 'Location Frequency')"
      ]
     },
     "execution_count": 29,
     "metadata": {},
     "output_type": "execute_result"
    },
    {
     "data": {
      "image/png": "[encoded data removed]",
      "text/plain": [
       "<Figure size 1152x576 with 1 Axes>"
      ]
     },
     "metadata": {
      "needs_background": "light"
     },
     "output_type": "display_data"
    }
   ],
   "source": [
    "import matplotlib.pyplot as plt\n",
    "import seaborn as sns\n",
    "plt.figure(figsize=(16,8))\n",
    "ax=sns.countplot(df.location)\n",
    "plt.xticks(rotation=90)\n",
    "plt.title('Location Frequency')"
   ]
  },
  {
   "cell_type": "code",
   "execution_count": 30,
   "id": "1b46bd01",
   "metadata": {
    "execution": {
     "iopub.execute_input": "2022-06-08T10:41:22.231717Z",
     "iopub.status.busy": "2022-06-08T10:41:22.230800Z",
     "iopub.status.idle": "2022-06-08T10:41:22.235298Z",
     "shell.execute_reply": "2022-06-08T10:41:22.234615Z"
    },
    "executionInfo": {
     "elapsed": 6,
     "status": "ok",
     "timestamp": 1652946073422,
     "user": {
      "displayName": "Mukul Deshantri",
      "userId": "07050717677545475229"
     },
     "user_tz": -330
    },
    "id": "8GsaFXVbPkzg",
    "papermill": {
     "duration": 0.035821,
     "end_time": "2022-06-08T10:41:22.237221",
     "exception": false,
     "start_time": "2022-06-08T10:41:22.201400",
     "status": "completed"
    },
    "tags": []
   },
   "outputs": [],
   "source": [
    "#By this graph its clear that the maximum restaurents are there in Koramangala 5th block. So i have have to open a new restaurent then i should not open it there to avoid competitions.\n"
   ]
  },
  {
   "cell_type": "code",
   "execution_count": 31,
   "id": "6135440e",
   "metadata": {
    "execution": {
     "iopub.execute_input": "2022-06-08T10:41:22.296855Z",
     "iopub.status.busy": "2022-06-08T10:41:22.296413Z",
     "iopub.status.idle": "2022-06-08T10:41:22.503485Z",
     "shell.execute_reply": "2022-06-08T10:41:22.502477Z"
    },
    "executionInfo": {
     "elapsed": 36,
     "status": "ok",
     "timestamp": 1652456937332,
     "user": {
      "displayName": "Mukul Deshantri",
      "userId": "07050717677545475229"
     },
     "user_tz": -330
    },
    "id": "f7oOj4gZ_JB5",
    "outputId": "18af1082-55e0-4fcb-d1a2-7f2443559a56",
    "papermill": {
     "duration": 0.239534,
     "end_time": "2022-06-08T10:41:22.505792",
     "exception": false,
     "start_time": "2022-06-08T10:41:22.266258",
     "status": "completed"
    },
    "tags": []
   },
   "outputs": [
    {
     "name": "stderr",
     "output_type": "stream",
     "text": [
      "/opt/conda/lib/python3.7/site-packages/seaborn/_decorators.py:43: FutureWarning: Pass the following variable as a keyword arg: x. From version 0.12, the only valid positional argument will be `data`, and passing other arguments without an explicit keyword will result in an error or misinterpretation.\n",
      "  FutureWarning\n"
     ]
    },
    {
     "data": {
      "text/plain": [
       "Text(0.5, 1.0, 'Restaurants having online order facility')"
      ]
     },
     "execution_count": 31,
     "metadata": {},
     "output_type": "execute_result"
    },
    {
     "data": {
      "image/png": "[encoded data removed]",
      "text/plain": [
       "<Figure size 720x432 with 1 Axes>"
      ]
     },
     "metadata": {
      "needs_background": "light"
     },
     "output_type": "display_data"
    }
   ],
   "source": [
    "#visulizing the online orer\n",
    "plt.figure(figsize=(10,6))\n",
    "sns.countplot(df.online_order )\n",
    "plt.title('Restaurants having online order facility')"
   ]
  },
  {
   "cell_type": "code",
   "execution_count": 32,
   "id": "993bd02d",
   "metadata": {
    "execution": {
     "iopub.execute_input": "2022-06-08T10:41:22.568031Z",
     "iopub.status.busy": "2022-06-08T10:41:22.567016Z",
     "iopub.status.idle": "2022-06-08T10:41:22.571433Z",
     "shell.execute_reply": "2022-06-08T10:41:22.570772Z"
    },
    "executionInfo": {
     "elapsed": 525,
     "status": "ok",
     "timestamp": 1652946232693,
     "user": {
      "displayName": "Mukul Deshantri",
      "userId": "07050717677545475229"
     },
     "user_tz": -330
    },
    "id": "IuJcjsoBQwOh",
    "papermill": {
     "duration": 0.038162,
     "end_time": "2022-06-08T10:41:22.573437",
     "exception": false,
     "start_time": "2022-06-08T10:41:22.535275",
     "status": "completed"
    },
    "tags": []
   },
   "outputs": [],
   "source": [
    "#It is clear from the above graph that more restuarents are having the order online facility "
   ]
  },
  {
   "cell_type": "code",
   "execution_count": 33,
   "id": "ba2aed88",
   "metadata": {
    "execution": {
     "iopub.execute_input": "2022-06-08T10:41:22.633555Z",
     "iopub.status.busy": "2022-06-08T10:41:22.632995Z",
     "iopub.status.idle": "2022-06-08T10:41:22.852427Z",
     "shell.execute_reply": "2022-06-08T10:41:22.851438Z"
    },
    "executionInfo": {
     "elapsed": 35,
     "status": "ok",
     "timestamp": 1652456937333,
     "user": {
      "displayName": "Mukul Deshantri",
      "userId": "07050717677545475229"
     },
     "user_tz": -330
    },
    "id": "VXH8eo0-7K0q",
    "outputId": "910b5e86-b704-49fa-8c03-f1575c7a6d4d",
    "papermill": {
     "duration": 0.252426,
     "end_time": "2022-06-08T10:41:22.854942",
     "exception": false,
     "start_time": "2022-06-08T10:41:22.602516",
     "status": "completed"
    },
    "tags": []
   },
   "outputs": [
    {
     "name": "stderr",
     "output_type": "stream",
     "text": [
      "/opt/conda/lib/python3.7/site-packages/seaborn/_decorators.py:43: FutureWarning: Pass the following variable as a keyword arg: x. From version 0.12, the only valid positional argument will be `data`, and passing other arguments without an explicit keyword will result in an error or misinterpretation.\n",
      "  FutureWarning\n"
     ]
    },
    {
     "data": {
      "text/plain": [
       "Text(0.5, 1.0, 'Restaurants having Book table facility')"
      ]
     },
     "execution_count": 33,
     "metadata": {},
     "output_type": "execute_result"
    },
    {
     "data": {
      "image/png": "[encoded data removed]",
      "text/plain": [
       "<Figure size 576x576 with 1 Axes>"
      ]
     },
     "metadata": {
      "needs_background": "light"
     },
     "output_type": "display_data"
    }
   ],
   "source": [
    "#visualizing book table facility\n",
    "plt.figure(figsize=(8,8))\n",
    "sns.countplot(df.book_table, palette='magma')\n",
    "plt.title('Restaurants having Book table facility')"
   ]
  },
  {
   "cell_type": "code",
   "execution_count": 34,
   "id": "7eb81e1d",
   "metadata": {
    "execution": {
     "iopub.execute_input": "2022-06-08T10:41:22.918082Z",
     "iopub.status.busy": "2022-06-08T10:41:22.917194Z",
     "iopub.status.idle": "2022-06-08T10:41:22.921760Z",
     "shell.execute_reply": "2022-06-08T10:41:22.920840Z"
    },
    "executionInfo": {
     "elapsed": 485,
     "status": "ok",
     "timestamp": 1652946279197,
     "user": {
      "displayName": "Mukul Deshantri",
      "userId": "07050717677545475229"
     },
     "user_tz": -330
    },
    "id": "3uxj1UC3Rfyn",
    "papermill": {
     "duration": 0.038238,
     "end_time": "2022-06-08T10:41:22.923938",
     "exception": false,
     "start_time": "2022-06-08T10:41:22.885700",
     "status": "completed"
    },
    "tags": []
   },
   "outputs": [],
   "source": [
    "#It is clear from the above graph that more restuarents are not having the book table facility "
   ]
  },
  {
   "cell_type": "code",
   "execution_count": 35,
   "id": "48719aa3",
   "metadata": {
    "execution": {
     "iopub.execute_input": "2022-06-08T10:41:22.985706Z",
     "iopub.status.busy": "2022-06-08T10:41:22.985132Z",
     "iopub.status.idle": "2022-06-08T10:41:23.205913Z",
     "shell.execute_reply": "2022-06-08T10:41:23.204959Z"
    },
    "executionInfo": {
     "elapsed": 33,
     "status": "ok",
     "timestamp": 1652456937334,
     "user": {
      "displayName": "Mukul Deshantri",
      "userId": "07050717677545475229"
     },
     "user_tz": -330
    },
    "id": "05tn-GK6BDiz",
    "outputId": "3abfd475-1665-44c4-96e5-b909dea6a44a",
    "papermill": {
     "duration": 0.254298,
     "end_time": "2022-06-08T10:41:23.208010",
     "exception": false,
     "start_time": "2022-06-08T10:41:22.953712",
     "status": "completed"
    },
    "tags": []
   },
   "outputs": [
    {
     "data": {
      "text/plain": [
       "<AxesSubplot:xlabel='online_order', ylabel='rate'>"
      ]
     },
     "execution_count": 35,
     "metadata": {},
     "output_type": "execute_result"
    },
    {
     "data": {
      "image/png": "[encoded data removed]",
      "text/plain": [
       "<Figure size 576x576 with 1 Axes>"
      ]
     },
     "metadata": {
      "needs_background": "light"
     },
     "output_type": "display_data"
    }
   ],
   "source": [
    "#online order vs rate\n",
    "plt.figure(figsize=(8,8))\n",
    "sns.boxplot(x='online_order',y='rate',data=df)\n",
    "#Analyzing the rating by the customers against the online order facility"
   ]
  },
  {
   "cell_type": "code",
   "execution_count": 36,
   "id": "10402d29",
   "metadata": {
    "execution": {
     "iopub.execute_input": "2022-06-08T10:41:23.269562Z",
     "iopub.status.busy": "2022-06-08T10:41:23.268809Z",
     "iopub.status.idle": "2022-06-08T10:41:23.273081Z",
     "shell.execute_reply": "2022-06-08T10:41:23.272461Z"
    },
    "id": "wggP7LEsRqA4",
    "papermill": {
     "duration": 0.037161,
     "end_time": "2022-06-08T10:41:23.275038",
     "exception": false,
     "start_time": "2022-06-08T10:41:23.237877",
     "status": "completed"
    },
    "tags": []
   },
   "outputs": [],
   "source": [
    "# So the above graph states that if the restaurent is having the order online facility their rate is lower than the restuarents which don't have it.\n",
    "# This can be beacuse of packaging or delivery issues."
   ]
  },
  {
   "cell_type": "code",
   "execution_count": 37,
   "id": "651a0577",
   "metadata": {
    "execution": {
     "iopub.execute_input": "2022-06-08T10:41:23.338869Z",
     "iopub.status.busy": "2022-06-08T10:41:23.338438Z",
     "iopub.status.idle": "2022-06-08T10:41:23.550715Z",
     "shell.execute_reply": "2022-06-08T10:41:23.549754Z"
    },
    "executionInfo": {
     "elapsed": 32,
     "status": "ok",
     "timestamp": 1652456937335,
     "user": {
      "displayName": "Mukul Deshantri",
      "userId": "07050717677545475229"
     },
     "user_tz": -330
    },
    "id": "WR1YzQxOCAKh",
    "outputId": "6d7cd1fd-442a-46c3-e729-05fc7e13d5f5",
    "papermill": {
     "duration": 0.246499,
     "end_time": "2022-06-08T10:41:23.553127",
     "exception": false,
     "start_time": "2022-06-08T10:41:23.306628",
     "status": "completed"
    },
    "tags": []
   },
   "outputs": [
    {
     "data": {
      "text/plain": [
       "<AxesSubplot:xlabel='book_table', ylabel='rate'>"
      ]
     },
     "execution_count": 37,
     "metadata": {},
     "output_type": "execute_result"
    },
    {
     "data": {
      "image/png": "[encoded data removed]",
      "text/plain": [
       "<Figure size 576x576 with 1 Axes>"
      ]
     },
     "metadata": {
      "needs_background": "light"
     },
     "output_type": "display_data"
    }
   ],
   "source": [
    "#online book table vs rate\n",
    "plt.figure(figsize=(8,8))\n",
    "sns.boxplot(x='book_table',y='rate',data=df)\n",
    "#Analyzing the rating by the customers against the book table facility"
   ]
  },
  {
   "cell_type": "code",
   "execution_count": 38,
   "id": "10030e75",
   "metadata": {
    "execution": {
     "iopub.execute_input": "2022-06-08T10:41:23.616013Z",
     "iopub.status.busy": "2022-06-08T10:41:23.615022Z",
     "iopub.status.idle": "2022-06-08T10:41:23.620226Z",
     "shell.execute_reply": "2022-06-08T10:41:23.619464Z"
    },
    "id": "4efLtAmZSR61",
    "papermill": {
     "duration": 0.038555,
     "end_time": "2022-06-08T10:41:23.622215",
     "exception": false,
     "start_time": "2022-06-08T10:41:23.583660",
     "status": "completed"
    },
    "tags": []
   },
   "outputs": [],
   "source": [
    "# The above graph shows that the restaurents that have the booking table facility have much higher rate than the restaurents that don't have it.\n",
    "# So this emplies that restaurents should provide a book table facility to attract more coustomers."
   ]
  },
  {
   "cell_type": "code",
   "execution_count": 39,
   "id": "0c68e78b",
   "metadata": {
    "execution": {
     "iopub.execute_input": "2022-06-08T10:41:23.691603Z",
     "iopub.status.busy": "2022-06-08T10:41:23.691014Z",
     "iopub.status.idle": "2022-06-08T10:41:24.275622Z",
     "shell.execute_reply": "2022-06-08T10:41:24.274656Z"
    },
    "executionInfo": {
     "elapsed": 926,
     "status": "ok",
     "timestamp": 1652456938231,
     "user": {
      "displayName": "Mukul Deshantri",
      "userId": "07050717677545475229"
     },
     "user_tz": -330
    },
    "id": "84t9Io8bDaie",
    "outputId": "9ec3aa99-64eb-442f-9a60-1f70dce1bfc9",
    "papermill": {
     "duration": 0.6253,
     "end_time": "2022-06-08T10:41:24.277731",
     "exception": false,
     "start_time": "2022-06-08T10:41:23.652431",
     "status": "completed"
    },
    "tags": []
   },
   "outputs": [
    {
     "data": {
      "text/plain": [
       "Text(0.5, 1.0, 'Restaurants providing online order according to location')"
      ]
     },
     "execution_count": 39,
     "metadata": {},
     "output_type": "execute_result"
    },
    {
     "data": {
      "image/png": "[encoded data removed]",
      "text/plain": [
       "<Figure size 1152x576 with 1 Axes>"
      ]
     },
     "metadata": {
      "needs_background": "light"
     },
     "output_type": "display_data"
    }
   ],
   "source": [
    "#online order facility by location wise\n",
    "df1=df.groupby(['location','online_order'])['name'].count()\n",
    "df1.to_csv('location_onlinedata.csv')\n",
    "df1=pd.read_csv('location_onlinedata.csv')\n",
    "df1=pd.pivot_table(df1,values=None , index=['location'],columns=['online_order'],fill_value=0, aggfunc=np.sum)\n",
    "df1.plot(kind='bar', figsize=(16,8))\n",
    "plt.title('Restaurants providing online order according to location')"
   ]
  },
  {
   "cell_type": "code",
   "execution_count": 40,
   "id": "e24765f2",
   "metadata": {
    "execution": {
     "iopub.execute_input": "2022-06-08T10:41:24.352202Z",
     "iopub.status.busy": "2022-06-08T10:41:24.351146Z",
     "iopub.status.idle": "2022-06-08T10:41:24.356004Z",
     "shell.execute_reply": "2022-06-08T10:41:24.355110Z"
    },
    "id": "81Hz9qb1THEn",
    "papermill": {
     "duration": 0.048201,
     "end_time": "2022-06-08T10:41:24.359569",
     "exception": false,
     "start_time": "2022-06-08T10:41:24.311368",
     "status": "completed"
    },
    "tags": []
   },
   "outputs": [],
   "source": [
    "# By this graph we can understand that in Lavelle Road , MG Road, Residency Road and Richmond Road the amount of online order taking restaurents are less.\n",
    "# These areas can provide online orders to maximize their sale. "
   ]
  },
  {
   "cell_type": "code",
   "execution_count": 41,
   "id": "b2d0cb19",
   "metadata": {
    "execution": {
     "iopub.execute_input": "2022-06-08T10:41:24.436375Z",
     "iopub.status.busy": "2022-06-08T10:41:24.435656Z",
     "iopub.status.idle": "2022-06-08T10:41:24.989845Z",
     "shell.execute_reply": "2022-06-08T10:41:24.988795Z"
    },
    "executionInfo": {
     "elapsed": 1467,
     "status": "ok",
     "timestamp": 1652456939682,
     "user": {
      "displayName": "Mukul Deshantri",
      "userId": "07050717677545475229"
     },
     "user_tz": -330
    },
    "id": "LqsNxlDFFNo_",
    "outputId": "1c8e4f53-dd27-46a9-c449-746604597bbd",
    "papermill": {
     "duration": 0.595164,
     "end_time": "2022-06-08T10:41:24.991932",
     "exception": false,
     "start_time": "2022-06-08T10:41:24.396768",
     "status": "completed"
    },
    "tags": []
   },
   "outputs": [
    {
     "data": {
      "text/plain": [
       "Text(0.5, 1.0, 'Restaurants providing book table facility according to location')"
      ]
     },
     "execution_count": 41,
     "metadata": {},
     "output_type": "execute_result"
    },
    {
     "data": {
      "image/png": "[encoded data removed]",
      "text/plain": [
       "<Figure size 1152x576 with 1 Axes>"
      ]
     },
     "metadata": {
      "needs_background": "light"
     },
     "output_type": "display_data"
    }
   ],
   "source": [
    "#Book table facility by location wise\n",
    "df2=df.groupby(['location','book_table'])['name'].count()\n",
    "df2.to_csv('location_bookdata.csv')\n",
    "df2=pd.read_csv('location_bookdata.csv')\n",
    "df2=pd.pivot_table(df2,values=None , index=['location'],columns=['book_table'],fill_value=0, aggfunc=np.sum)\n",
    "df2.plot(kind='bar', figsize=(16,8))\n",
    "plt.title('Restaurants providing book table facility according to location')"
   ]
  },
  {
   "cell_type": "code",
   "execution_count": 42,
   "id": "2dc7bb2c",
   "metadata": {
    "execution": {
     "iopub.execute_input": "2022-06-08T10:41:25.058653Z",
     "iopub.status.busy": "2022-06-08T10:41:25.057492Z",
     "iopub.status.idle": "2022-06-08T10:41:25.062313Z",
     "shell.execute_reply": "2022-06-08T10:41:25.061267Z"
    },
    "executionInfo": {
     "elapsed": 777,
     "status": "ok",
     "timestamp": 1652946944900,
     "user": {
      "displayName": "Mukul Deshantri",
      "userId": "07050717677545475229"
     },
     "user_tz": -330
    },
    "id": "uAu5B8wxTqUQ",
    "papermill": {
     "duration": 0.040006,
     "end_time": "2022-06-08T10:41:25.064399",
     "exception": false,
     "start_time": "2022-06-08T10:41:25.024393",
     "status": "completed"
    },
    "tags": []
   },
   "outputs": [],
   "source": [
    "# Lavelle Road and MG road have more restaurents that have book table facility. So retsurents who provide online orders here will be in much more profit beacuse of less competitions"
   ]
  },
  {
   "cell_type": "code",
   "execution_count": 43,
   "id": "54cb4b19",
   "metadata": {
    "execution": {
     "iopub.execute_input": "2022-06-08T10:41:25.129914Z",
     "iopub.status.busy": "2022-06-08T10:41:25.129221Z",
     "iopub.status.idle": "2022-06-08T10:41:25.389171Z",
     "shell.execute_reply": "2022-06-08T10:41:25.388323Z"
    },
    "executionInfo": {
     "elapsed": 33,
     "status": "ok",
     "timestamp": 1652456939683,
     "user": {
      "displayName": "Mukul Deshantri",
      "userId": "07050717677545475229"
     },
     "user_tz": -330
    },
    "id": "COnUea9wHtDj",
    "outputId": "426e85c3-605d-466c-fd80-43fb60a4c461",
    "papermill": {
     "duration": 0.29513,
     "end_time": "2022-06-08T10:41:25.391428",
     "exception": false,
     "start_time": "2022-06-08T10:41:25.096298",
     "status": "completed"
    },
    "tags": []
   },
   "outputs": [
    {
     "data": {
      "text/plain": [
       "<AxesSubplot:xlabel='Type', ylabel='rate'>"
      ]
     },
     "execution_count": 43,
     "metadata": {},
     "output_type": "execute_result"
    },
    {
     "data": {
      "image/png": "[encoded data removed]",
      "text/plain": [
       "<Figure size 1152x576 with 1 Axes>"
      ]
     },
     "metadata": {
      "needs_background": "light"
     },
     "output_type": "display_data"
    }
   ],
   "source": [
    "#Visualizing types of resturants\n",
    "plt.figure(figsize=(16,8))\n",
    "sns.boxplot(x='Type',y='rate',data=df)"
   ]
  },
  {
   "cell_type": "code",
   "execution_count": 44,
   "id": "817468c9",
   "metadata": {
    "execution": {
     "iopub.execute_input": "2022-06-08T10:41:25.457939Z",
     "iopub.status.busy": "2022-06-08T10:41:25.457232Z",
     "iopub.status.idle": "2022-06-08T10:41:25.461430Z",
     "shell.execute_reply": "2022-06-08T10:41:25.460793Z"
    },
    "id": "Kl3m5tLqUMjH",
    "papermill": {
     "duration": 0.03934,
     "end_time": "2022-06-08T10:41:25.463250",
     "exception": false,
     "start_time": "2022-06-08T10:41:25.423910",
     "status": "completed"
    },
    "tags": []
   },
   "outputs": [],
   "source": [
    "# The above graph shows that people are more attracted to Drinks & nightlife type of restaurents in bangalore."
   ]
  },
  {
   "cell_type": "code",
   "execution_count": 45,
   "id": "5ae404bb",
   "metadata": {
    "execution": {
     "iopub.execute_input": "2022-06-08T10:41:25.529818Z",
     "iopub.status.busy": "2022-06-08T10:41:25.529164Z",
     "iopub.status.idle": "2022-06-08T10:41:25.574786Z",
     "shell.execute_reply": "2022-06-08T10:41:25.574039Z"
    },
    "executionInfo": {
     "elapsed": 534,
     "status": "ok",
     "timestamp": 1652456978364,
     "user": {
      "displayName": "Mukul Deshantri",
      "userId": "07050717677545475229"
     },
     "user_tz": -330
    },
    "id": "sQ2lPvT6JUp2",
    "outputId": "ef838766-4ffd-400d-ffd7-8c239af7e16e",
    "papermill": {
     "duration": 0.081198,
     "end_time": "2022-06-08T10:41:25.576727",
     "exception": false,
     "start_time": "2022-06-08T10:41:25.495529",
     "status": "completed"
    },
    "tags": []
   },
   "outputs": [
    {
     "data": {
      "text/html": [
       "<div>\n",
       "<style scoped>\n",
       "    .dataframe tbody tr th:only-of-type {\n",
       "        vertical-align: middle;\n",
       "    }\n",
       "\n",
       "    .dataframe tbody tr th {\n",
       "        vertical-align: top;\n",
       "    }\n",
       "\n",
       "    .dataframe thead tr th {\n",
       "        text-align: left;\n",
       "    }\n",
       "\n",
       "    .dataframe thead tr:last-of-type th {\n",
       "        text-align: right;\n",
       "    }\n",
       "</style>\n",
       "<table border=\"1\" class=\"dataframe\">\n",
       "  <thead>\n",
       "    <tr>\n",
       "      <th></th>\n",
       "      <th colspan=\"7\" halign=\"left\">name</th>\n",
       "    </tr>\n",
       "    <tr>\n",
       "      <th>Type</th>\n",
       "      <th>Buffet</th>\n",
       "      <th>Cafes</th>\n",
       "      <th>Delivery</th>\n",
       "      <th>Desserts</th>\n",
       "      <th>Dine-out</th>\n",
       "      <th>Drinks &amp; nightlife</th>\n",
       "      <th>Pubs and bars</th>\n",
       "    </tr>\n",
       "    <tr>\n",
       "      <th>location</th>\n",
       "      <th></th>\n",
       "      <th></th>\n",
       "      <th></th>\n",
       "      <th></th>\n",
       "      <th></th>\n",
       "      <th></th>\n",
       "      <th></th>\n",
       "    </tr>\n",
       "  </thead>\n",
       "  <tbody>\n",
       "    <tr>\n",
       "      <th>BTM</th>\n",
       "      <td>18</td>\n",
       "      <td>36</td>\n",
       "      <td>884</td>\n",
       "      <td>51</td>\n",
       "      <td>456</td>\n",
       "      <td>9</td>\n",
       "      <td>6</td>\n",
       "    </tr>\n",
       "    <tr>\n",
       "      <th>Banashankari</th>\n",
       "      <td>7</td>\n",
       "      <td>24</td>\n",
       "      <td>191</td>\n",
       "      <td>19</td>\n",
       "      <td>141</td>\n",
       "      <td>8</td>\n",
       "      <td>0</td>\n",
       "    </tr>\n",
       "    <tr>\n",
       "      <th>Bannerghatta Road</th>\n",
       "      <td>8</td>\n",
       "      <td>19</td>\n",
       "      <td>252</td>\n",
       "      <td>28</td>\n",
       "      <td>180</td>\n",
       "      <td>8</td>\n",
       "      <td>2</td>\n",
       "    </tr>\n",
       "    <tr>\n",
       "      <th>Basavanagudi</th>\n",
       "      <td>4</td>\n",
       "      <td>10</td>\n",
       "      <td>136</td>\n",
       "      <td>15</td>\n",
       "      <td>116</td>\n",
       "      <td>5</td>\n",
       "      <td>0</td>\n",
       "    </tr>\n",
       "    <tr>\n",
       "      <th>Bellandur</th>\n",
       "      <td>26</td>\n",
       "      <td>11</td>\n",
       "      <td>211</td>\n",
       "      <td>22</td>\n",
       "      <td>165</td>\n",
       "      <td>15</td>\n",
       "      <td>12</td>\n",
       "    </tr>\n",
       "    <tr>\n",
       "      <th>Brigade Road</th>\n",
       "      <td>20</td>\n",
       "      <td>20</td>\n",
       "      <td>202</td>\n",
       "      <td>42</td>\n",
       "      <td>213</td>\n",
       "      <td>53</td>\n",
       "      <td>20</td>\n",
       "    </tr>\n",
       "    <tr>\n",
       "      <th>Brookefield</th>\n",
       "      <td>6</td>\n",
       "      <td>15</td>\n",
       "      <td>150</td>\n",
       "      <td>14</td>\n",
       "      <td>118</td>\n",
       "      <td>4</td>\n",
       "      <td>0</td>\n",
       "    </tr>\n",
       "    <tr>\n",
       "      <th>Church Street</th>\n",
       "      <td>19</td>\n",
       "      <td>40</td>\n",
       "      <td>178</td>\n",
       "      <td>23</td>\n",
       "      <td>197</td>\n",
       "      <td>31</td>\n",
       "      <td>20</td>\n",
       "    </tr>\n",
       "    <tr>\n",
       "      <th>Cunningham Road</th>\n",
       "      <td>23</td>\n",
       "      <td>23</td>\n",
       "      <td>145</td>\n",
       "      <td>17</td>\n",
       "      <td>110</td>\n",
       "      <td>11</td>\n",
       "      <td>4</td>\n",
       "    </tr>\n",
       "    <tr>\n",
       "      <th>Domlur</th>\n",
       "      <td>14</td>\n",
       "      <td>4</td>\n",
       "      <td>98</td>\n",
       "      <td>11</td>\n",
       "      <td>61</td>\n",
       "      <td>10</td>\n",
       "      <td>8</td>\n",
       "    </tr>\n",
       "    <tr>\n",
       "      <th>Electronic City</th>\n",
       "      <td>17</td>\n",
       "      <td>11</td>\n",
       "      <td>126</td>\n",
       "      <td>15</td>\n",
       "      <td>134</td>\n",
       "      <td>12</td>\n",
       "      <td>12</td>\n",
       "    </tr>\n",
       "    <tr>\n",
       "      <th>Frazer Town</th>\n",
       "      <td>1</td>\n",
       "      <td>7</td>\n",
       "      <td>184</td>\n",
       "      <td>21</td>\n",
       "      <td>77</td>\n",
       "      <td>1</td>\n",
       "      <td>2</td>\n",
       "    </tr>\n",
       "    <tr>\n",
       "      <th>HSR</th>\n",
       "      <td>17</td>\n",
       "      <td>36</td>\n",
       "      <td>759</td>\n",
       "      <td>54</td>\n",
       "      <td>270</td>\n",
       "      <td>12</td>\n",
       "      <td>14</td>\n",
       "    </tr>\n",
       "    <tr>\n",
       "      <th>Indiranagar</th>\n",
       "      <td>36</td>\n",
       "      <td>81</td>\n",
       "      <td>668</td>\n",
       "      <td>87</td>\n",
       "      <td>358</td>\n",
       "      <td>62</td>\n",
       "      <td>58</td>\n",
       "    </tr>\n",
       "    <tr>\n",
       "      <th>JP Nagar</th>\n",
       "      <td>34</td>\n",
       "      <td>51</td>\n",
       "      <td>470</td>\n",
       "      <td>63</td>\n",
       "      <td>356</td>\n",
       "      <td>45</td>\n",
       "      <td>6</td>\n",
       "    </tr>\n",
       "    <tr>\n",
       "      <th>Jayanagar</th>\n",
       "      <td>25</td>\n",
       "      <td>55</td>\n",
       "      <td>572</td>\n",
       "      <td>72</td>\n",
       "      <td>311</td>\n",
       "      <td>12</td>\n",
       "      <td>0</td>\n",
       "    </tr>\n",
       "    <tr>\n",
       "      <th>Kalyan Nagar</th>\n",
       "      <td>9</td>\n",
       "      <td>27</td>\n",
       "      <td>193</td>\n",
       "      <td>33</td>\n",
       "      <td>187</td>\n",
       "      <td>18</td>\n",
       "      <td>0</td>\n",
       "    </tr>\n",
       "    <tr>\n",
       "      <th>Kammanahalli</th>\n",
       "      <td>2</td>\n",
       "      <td>10</td>\n",
       "      <td>131</td>\n",
       "      <td>9</td>\n",
       "      <td>106</td>\n",
       "      <td>2</td>\n",
       "      <td>0</td>\n",
       "    </tr>\n",
       "    <tr>\n",
       "      <th>Koramangala 1st Block</th>\n",
       "      <td>3</td>\n",
       "      <td>18</td>\n",
       "      <td>269</td>\n",
       "      <td>17</td>\n",
       "      <td>148</td>\n",
       "      <td>7</td>\n",
       "      <td>5</td>\n",
       "    </tr>\n",
       "    <tr>\n",
       "      <th>Koramangala 4th Block</th>\n",
       "      <td>16</td>\n",
       "      <td>39</td>\n",
       "      <td>259</td>\n",
       "      <td>41</td>\n",
       "      <td>209</td>\n",
       "      <td>52</td>\n",
       "      <td>28</td>\n",
       "    </tr>\n",
       "    <tr>\n",
       "      <th>Koramangala 5th Block</th>\n",
       "      <td>65</td>\n",
       "      <td>124</td>\n",
       "      <td>710</td>\n",
       "      <td>148</td>\n",
       "      <td>601</td>\n",
       "      <td>84</td>\n",
       "      <td>52</td>\n",
       "    </tr>\n",
       "    <tr>\n",
       "      <th>Koramangala 6th Block</th>\n",
       "      <td>18</td>\n",
       "      <td>36</td>\n",
       "      <td>315</td>\n",
       "      <td>44</td>\n",
       "      <td>258</td>\n",
       "      <td>36</td>\n",
       "      <td>13</td>\n",
       "    </tr>\n",
       "    <tr>\n",
       "      <th>Koramangala 7th Block</th>\n",
       "      <td>25</td>\n",
       "      <td>26</td>\n",
       "      <td>277</td>\n",
       "      <td>68</td>\n",
       "      <td>287</td>\n",
       "      <td>20</td>\n",
       "      <td>22</td>\n",
       "    </tr>\n",
       "    <tr>\n",
       "      <th>Lavelle Road</th>\n",
       "      <td>29</td>\n",
       "      <td>22</td>\n",
       "      <td>101</td>\n",
       "      <td>29</td>\n",
       "      <td>178</td>\n",
       "      <td>55</td>\n",
       "      <td>31</td>\n",
       "    </tr>\n",
       "    <tr>\n",
       "      <th>MG Road</th>\n",
       "      <td>44</td>\n",
       "      <td>43</td>\n",
       "      <td>144</td>\n",
       "      <td>29</td>\n",
       "      <td>256</td>\n",
       "      <td>50</td>\n",
       "      <td>30</td>\n",
       "    </tr>\n",
       "    <tr>\n",
       "      <th>Malleshwaram</th>\n",
       "      <td>11</td>\n",
       "      <td>14</td>\n",
       "      <td>119</td>\n",
       "      <td>27</td>\n",
       "      <td>163</td>\n",
       "      <td>18</td>\n",
       "      <td>14</td>\n",
       "    </tr>\n",
       "    <tr>\n",
       "      <th>Marathahalli</th>\n",
       "      <td>27</td>\n",
       "      <td>8</td>\n",
       "      <td>354</td>\n",
       "      <td>18</td>\n",
       "      <td>251</td>\n",
       "      <td>22</td>\n",
       "      <td>3</td>\n",
       "    </tr>\n",
       "    <tr>\n",
       "      <th>New BEL Road</th>\n",
       "      <td>4</td>\n",
       "      <td>20</td>\n",
       "      <td>157</td>\n",
       "      <td>14</td>\n",
       "      <td>93</td>\n",
       "      <td>7</td>\n",
       "      <td>8</td>\n",
       "    </tr>\n",
       "    <tr>\n",
       "      <th>Old Airport Road</th>\n",
       "      <td>10</td>\n",
       "      <td>2</td>\n",
       "      <td>87</td>\n",
       "      <td>11</td>\n",
       "      <td>73</td>\n",
       "      <td>10</td>\n",
       "      <td>9</td>\n",
       "    </tr>\n",
       "    <tr>\n",
       "      <th>Others</th>\n",
       "      <td>82</td>\n",
       "      <td>94</td>\n",
       "      <td>1251</td>\n",
       "      <td>123</td>\n",
       "      <td>838</td>\n",
       "      <td>58</td>\n",
       "      <td>37</td>\n",
       "    </tr>\n",
       "    <tr>\n",
       "      <th>Residency Road</th>\n",
       "      <td>20</td>\n",
       "      <td>20</td>\n",
       "      <td>111</td>\n",
       "      <td>42</td>\n",
       "      <td>191</td>\n",
       "      <td>41</td>\n",
       "      <td>17</td>\n",
       "    </tr>\n",
       "    <tr>\n",
       "      <th>Richmond Road</th>\n",
       "      <td>54</td>\n",
       "      <td>10</td>\n",
       "      <td>86</td>\n",
       "      <td>25</td>\n",
       "      <td>164</td>\n",
       "      <td>6</td>\n",
       "      <td>6</td>\n",
       "    </tr>\n",
       "    <tr>\n",
       "      <th>Sarjapur Road</th>\n",
       "      <td>26</td>\n",
       "      <td>11</td>\n",
       "      <td>207</td>\n",
       "      <td>25</td>\n",
       "      <td>146</td>\n",
       "      <td>20</td>\n",
       "      <td>21</td>\n",
       "    </tr>\n",
       "    <tr>\n",
       "      <th>St. Marks Road</th>\n",
       "      <td>5</td>\n",
       "      <td>10</td>\n",
       "      <td>101</td>\n",
       "      <td>10</td>\n",
       "      <td>120</td>\n",
       "      <td>36</td>\n",
       "      <td>22</td>\n",
       "    </tr>\n",
       "    <tr>\n",
       "      <th>Ulsoor</th>\n",
       "      <td>16</td>\n",
       "      <td>43</td>\n",
       "      <td>170</td>\n",
       "      <td>27</td>\n",
       "      <td>184</td>\n",
       "      <td>19</td>\n",
       "      <td>18</td>\n",
       "    </tr>\n",
       "    <tr>\n",
       "      <th>Whitefield</th>\n",
       "      <td>21</td>\n",
       "      <td>27</td>\n",
       "      <td>360</td>\n",
       "      <td>39</td>\n",
       "      <td>319</td>\n",
       "      <td>31</td>\n",
       "      <td>27</td>\n",
       "    </tr>\n",
       "  </tbody>\n",
       "</table>\n",
       "</div>"
      ],
      "text/plain": [
       "                        name                                   \\\n",
       "Type                  Buffet Cafes Delivery Desserts Dine-out   \n",
       "location                                                        \n",
       "BTM                       18    36      884       51      456   \n",
       "Banashankari               7    24      191       19      141   \n",
       "Bannerghatta Road          8    19      252       28      180   \n",
       "Basavanagudi               4    10      136       15      116   \n",
       "Bellandur                 26    11      211       22      165   \n",
       "Brigade Road              20    20      202       42      213   \n",
       "Brookefield                6    15      150       14      118   \n",
       "Church Street             19    40      178       23      197   \n",
       "Cunningham Road           23    23      145       17      110   \n",
       "Domlur                    14     4       98       11       61   \n",
       "Electronic City           17    11      126       15      134   \n",
       "Frazer Town                1     7      184       21       77   \n",
       "HSR                       17    36      759       54      270   \n",
       "Indiranagar               36    81      668       87      358   \n",
       "JP Nagar                  34    51      470       63      356   \n",
       "Jayanagar                 25    55      572       72      311   \n",
       "Kalyan Nagar               9    27      193       33      187   \n",
       "Kammanahalli               2    10      131        9      106   \n",
       "Koramangala 1st Block      3    18      269       17      148   \n",
       "Koramangala 4th Block     16    39      259       41      209   \n",
       "Koramangala 5th Block     65   124      710      148      601   \n",
       "Koramangala 6th Block     18    36      315       44      258   \n",
       "Koramangala 7th Block     25    26      277       68      287   \n",
       "Lavelle Road              29    22      101       29      178   \n",
       "MG Road                   44    43      144       29      256   \n",
       "Malleshwaram              11    14      119       27      163   \n",
       "Marathahalli              27     8      354       18      251   \n",
       "New BEL Road               4    20      157       14       93   \n",
       "Old Airport Road          10     2       87       11       73   \n",
       "Others                    82    94     1251      123      838   \n",
       "Residency Road            20    20      111       42      191   \n",
       "Richmond Road             54    10       86       25      164   \n",
       "Sarjapur Road             26    11      207       25      146   \n",
       "St. Marks Road             5    10      101       10      120   \n",
       "Ulsoor                    16    43      170       27      184   \n",
       "Whitefield                21    27      360       39      319   \n",
       "\n",
       "                                                        \n",
       "Type                  Drinks & nightlife Pubs and bars  \n",
       "location                                                \n",
       "BTM                                    9             6  \n",
       "Banashankari                           8             0  \n",
       "Bannerghatta Road                      8             2  \n",
       "Basavanagudi                           5             0  \n",
       "Bellandur                             15            12  \n",
       "Brigade Road                          53            20  \n",
       "Brookefield                            4             0  \n",
       "Church Street                         31            20  \n",
       "Cunningham Road                       11             4  \n",
       "Domlur                                10             8  \n",
       "Electronic City                       12            12  \n",
       "Frazer Town                            1             2  \n",
       "HSR                                   12            14  \n",
       "Indiranagar                           62            58  \n",
       "JP Nagar                              45             6  \n",
       "Jayanagar                             12             0  \n",
       "Kalyan Nagar                          18             0  \n",
       "Kammanahalli                           2             0  \n",
       "Koramangala 1st Block                  7             5  \n",
       "Koramangala 4th Block                 52            28  \n",
       "Koramangala 5th Block                 84            52  \n",
       "Koramangala 6th Block                 36            13  \n",
       "Koramangala 7th Block                 20            22  \n",
       "Lavelle Road                          55            31  \n",
       "MG Road                               50            30  \n",
       "Malleshwaram                          18            14  \n",
       "Marathahalli                          22             3  \n",
       "New BEL Road                           7             8  \n",
       "Old Airport Road                      10             9  \n",
       "Others                                58            37  \n",
       "Residency Road                        41            17  \n",
       "Richmond Road                          6             6  \n",
       "Sarjapur Road                         20            21  \n",
       "St. Marks Road                        36            22  \n",
       "Ulsoor                                19            18  \n",
       "Whitefield                            31            27  "
      ]
     },
     "execution_count": 45,
     "metadata": {},
     "output_type": "execute_result"
    }
   ],
   "source": [
    "#Type of restaurants by location wise\n",
    "df3=df.groupby(['location','Type'])['name'].count()\n",
    "df3.to_csv('location_Typedata.csv')\n",
    "df3=pd.read_csv('location_Typedata.csv')\n",
    "df3=pd.pivot_table(df3,values=None , index=['location'],columns=['Type'],fill_value=0, aggfunc=np.sum)\n",
    "df3"
   ]
  },
  {
   "cell_type": "code",
   "execution_count": 46,
   "id": "d522fe29",
   "metadata": {
    "execution": {
     "iopub.execute_input": "2022-06-08T10:41:25.644587Z",
     "iopub.status.busy": "2022-06-08T10:41:25.644173Z",
     "iopub.status.idle": "2022-06-08T10:41:26.938827Z",
     "shell.execute_reply": "2022-06-08T10:41:26.937777Z"
    },
    "executionInfo": {
     "elapsed": 3151,
     "status": "ok",
     "timestamp": 1652456982064,
     "user": {
      "displayName": "Mukul Deshantri",
      "userId": "07050717677545475229"
     },
     "user_tz": -330
    },
    "id": "E33VybLQZ2vT",
    "outputId": "bf424877-a785-46f4-ba47-f7e6f9f95e27",
    "papermill": {
     "duration": 1.331273,
     "end_time": "2022-06-08T10:41:26.940962",
     "exception": false,
     "start_time": "2022-06-08T10:41:25.609689",
     "status": "completed"
    },
    "tags": []
   },
   "outputs": [
    {
     "data": {
      "text/plain": [
       "Text(0.5, 1.0, 'Type of Restaurants according to location')"
      ]
     },
     "execution_count": 46,
     "metadata": {},
     "output_type": "execute_result"
    },
    {
     "data": {
      "image/png": "[encoded data removed]",
      "text/plain": [
       "<Figure size 2592x1080 with 1 Axes>"
      ]
     },
     "metadata": {
      "needs_background": "light"
     },
     "output_type": "display_data"
    }
   ],
   "source": [
    "df3.plot(kind='bar', figsize=(36,15))\n",
    "plt.title('Type of Restaurants according to location')"
   ]
  },
  {
   "cell_type": "code",
   "execution_count": 47,
   "id": "58134207",
   "metadata": {
    "execution": {
     "iopub.execute_input": "2022-06-08T10:41:27.014737Z",
     "iopub.status.busy": "2022-06-08T10:41:27.013942Z",
     "iopub.status.idle": "2022-06-08T10:41:27.017651Z",
     "shell.execute_reply": "2022-06-08T10:41:27.016949Z"
    },
    "id": "XVCzCPAXVDPg",
    "papermill": {
     "duration": 0.042071,
     "end_time": "2022-06-08T10:41:27.019602",
     "exception": false,
     "start_time": "2022-06-08T10:41:26.977531",
     "status": "completed"
    },
    "tags": []
   },
   "outputs": [],
   "source": [
    "# The above graph shows what type of restaurants is more popuplar in the specific location."
   ]
  },
  {
   "cell_type": "code",
   "execution_count": 48,
   "id": "522b4cdf",
   "metadata": {
    "execution": {
     "iopub.execute_input": "2022-06-08T10:41:27.090267Z",
     "iopub.status.busy": "2022-06-08T10:41:27.089590Z",
     "iopub.status.idle": "2022-06-08T10:41:27.111999Z",
     "shell.execute_reply": "2022-06-08T10:41:27.111068Z"
    },
    "executionInfo": {
     "elapsed": 20,
     "status": "ok",
     "timestamp": 1652456982065,
     "user": {
      "displayName": "Mukul Deshantri",
      "userId": "07050717677545475229"
     },
     "user_tz": -330
    },
    "id": "XHwTS1Buaw2_",
    "outputId": "31f955dd-8ace-4b98-a8de-4ae095905c99",
    "papermill": {
     "duration": 0.060196,
     "end_time": "2022-06-08T10:41:27.114195",
     "exception": false,
     "start_time": "2022-06-08T10:41:27.053999",
     "status": "completed"
    },
    "tags": []
   },
   "outputs": [
    {
     "data": {
      "text/html": [
       "<div>\n",
       "<style scoped>\n",
       "    .dataframe tbody tr th:only-of-type {\n",
       "        vertical-align: middle;\n",
       "    }\n",
       "\n",
       "    .dataframe tbody tr th {\n",
       "        vertical-align: top;\n",
       "    }\n",
       "\n",
       "    .dataframe thead th {\n",
       "        text-align: right;\n",
       "    }\n",
       "</style>\n",
       "<table border=\"1\" class=\"dataframe\">\n",
       "  <thead>\n",
       "    <tr style=\"text-align: right;\">\n",
       "      <th></th>\n",
       "      <th>costfor2</th>\n",
       "    </tr>\n",
       "    <tr>\n",
       "      <th>location</th>\n",
       "      <th></th>\n",
       "    </tr>\n",
       "  </thead>\n",
       "  <tbody>\n",
       "    <tr>\n",
       "      <th>MG Road</th>\n",
       "      <td>1465.016779</td>\n",
       "    </tr>\n",
       "    <tr>\n",
       "      <th>Lavelle Road</th>\n",
       "      <td>1425.505618</td>\n",
       "    </tr>\n",
       "    <tr>\n",
       "      <th>Richmond Road</th>\n",
       "      <td>1124.786325</td>\n",
       "    </tr>\n",
       "    <tr>\n",
       "      <th>Residency Road</th>\n",
       "      <td>1095.248869</td>\n",
       "    </tr>\n",
       "    <tr>\n",
       "      <th>Ulsoor</th>\n",
       "      <td>1073.375262</td>\n",
       "    </tr>\n",
       "  </tbody>\n",
       "</table>\n",
       "</div>"
      ],
      "text/plain": [
       "                   costfor2\n",
       "location                   \n",
       "MG Road         1465.016779\n",
       "Lavelle Road    1425.505618\n",
       "Richmond Road   1124.786325\n",
       "Residency Road  1095.248869\n",
       "Ulsoor          1073.375262"
      ]
     },
     "execution_count": 48,
     "metadata": {},
     "output_type": "execute_result"
    }
   ],
   "source": [
    "#cost for 2 according to location\n",
    "df4=df[['location','costfor2']]\n",
    "df4.drop_duplicates()\n",
    "df5=df4.groupby(['location'])['costfor2'].mean()\n",
    "df5=df5.to_frame()\n",
    "df5=df5.sort_values('costfor2',ascending=False)\n",
    "df5.head(5)"
   ]
  },
  {
   "cell_type": "code",
   "execution_count": 49,
   "id": "f6de2401",
   "metadata": {
    "execution": {
     "iopub.execute_input": "2022-06-08T10:41:27.185081Z",
     "iopub.status.busy": "2022-06-08T10:41:27.184623Z",
     "iopub.status.idle": "2022-06-08T10:41:27.656422Z",
     "shell.execute_reply": "2022-06-08T10:41:27.655737Z"
    },
    "executionInfo": {
     "elapsed": 1118,
     "status": "ok",
     "timestamp": 1652457000464,
     "user": {
      "displayName": "Mukul Deshantri",
      "userId": "07050717677545475229"
     },
     "user_tz": -330
    },
    "id": "OTceHh7yfoTW",
    "outputId": "0bce0b68-ac98-4818-e33c-1aff5312a672",
    "papermill": {
     "duration": 0.509303,
     "end_time": "2022-06-08T10:41:27.658284",
     "exception": false,
     "start_time": "2022-06-08T10:41:27.148981",
     "status": "completed"
    },
    "tags": []
   },
   "outputs": [
    {
     "name": "stderr",
     "output_type": "stream",
     "text": [
      "/opt/conda/lib/python3.7/site-packages/seaborn/_decorators.py:43: FutureWarning: Pass the following variables as keyword args: x, y. From version 0.12, the only valid positional argument will be `data`, and passing other arguments without an explicit keyword will result in an error or misinterpretation.\n",
      "  FutureWarning\n"
     ]
    },
    {
     "data": {
      "text/plain": [
       "Text(0.5, 1.0, 'Mean cost of 2 person according to location')"
      ]
     },
     "execution_count": 49,
     "metadata": {},
     "output_type": "execute_result"
    },
    {
     "data": {
      "image/png": "[encoded data removed]",
      "text/plain": [
       "<Figure size 432x288 with 1 Axes>"
      ]
     },
     "metadata": {
      "needs_background": "light"
     },
     "output_type": "display_data"
    }
   ],
   "source": [
    "sns.barplot(df5.index,df5.costfor2)\n",
    "plt.xticks(rotation=90)\n",
    "plt.title('Mean cost of 2 person according to location')"
   ]
  },
  {
   "cell_type": "code",
   "execution_count": 50,
   "id": "9d85eb2c",
   "metadata": {
    "execution": {
     "iopub.execute_input": "2022-06-08T10:41:27.730627Z",
     "iopub.status.busy": "2022-06-08T10:41:27.729779Z",
     "iopub.status.idle": "2022-06-08T10:41:27.733552Z",
     "shell.execute_reply": "2022-06-08T10:41:27.732890Z"
    },
    "executionInfo": {
     "elapsed": 698,
     "status": "ok",
     "timestamp": 1652947333315,
     "user": {
      "displayName": "Mukul Deshantri",
      "userId": "07050717677545475229"
     },
     "user_tz": -330
    },
    "id": "IJI7RZQaVfGL",
    "papermill": {
     "duration": 0.042051,
     "end_time": "2022-06-08T10:41:27.735387",
     "exception": false,
     "start_time": "2022-06-08T10:41:27.693336",
     "status": "completed"
    },
    "tags": []
   },
   "outputs": [],
   "source": [
    "# The avove graphs shows that average cost for 2 in MG ROAD is highest followed by Lavelle Road."
   ]
  },
  {
   "cell_type": "markdown",
   "id": "27adc511",
   "metadata": {
    "id": "OXjS_OtulEU_",
    "papermill": {
     "duration": 0.035159,
     "end_time": "2022-06-08T10:41:27.805635",
     "exception": false,
     "start_time": "2022-06-08T10:41:27.770476",
     "status": "completed"
    },
    "tags": []
   },
   "source": [
    "# Asking and Answering Questions"
   ]
  },
  {
   "cell_type": "markdown",
   "id": "55654553",
   "metadata": {
    "id": "hfXoCmFAlnt1",
    "papermill": {
     "duration": 0.035063,
     "end_time": "2022-06-08T10:41:27.877094",
     "exception": false,
     "start_time": "2022-06-08T10:41:27.842031",
     "status": "completed"
    },
    "tags": []
   },
   "source": [
    "#### Q1. How many restaurants have dining facility"
   ]
  },
  {
   "cell_type": "code",
   "execution_count": 51,
   "id": "fea3def9",
   "metadata": {
    "execution": {
     "iopub.execute_input": "2022-06-08T10:41:27.949722Z",
     "iopub.status.busy": "2022-06-08T10:41:27.949076Z",
     "iopub.status.idle": "2022-06-08T10:41:27.959363Z",
     "shell.execute_reply": "2022-06-08T10:41:27.958715Z"
    },
    "executionInfo": {
     "elapsed": 818,
     "status": "ok",
     "timestamp": 1652458237303,
     "user": {
      "displayName": "Mukul Deshantri",
      "userId": "07050717677545475229"
     },
     "user_tz": -330
    },
    "id": "ADZRiE8tmDI4",
    "outputId": "bad60bed-bd2a-488b-e8c8-4bb00aa0df37",
    "papermill": {
     "duration": 0.048624,
     "end_time": "2022-06-08T10:41:27.961062",
     "exception": false,
     "start_time": "2022-06-08T10:41:27.912438",
     "status": "completed"
    },
    "tags": []
   },
   "outputs": [
    {
     "data": {
      "text/plain": [
       "No     17086\n",
       "Yes     6136\n",
       "Name: book_table, dtype: int64"
      ]
     },
     "execution_count": 51,
     "metadata": {},
     "output_type": "execute_result"
    }
   ],
   "source": [
    "df.book_table.value_counts()\n"
   ]
  },
  {
   "cell_type": "code",
   "execution_count": 52,
   "id": "b9bccc91",
   "metadata": {
    "execution": {
     "iopub.execute_input": "2022-06-08T10:41:28.034328Z",
     "iopub.status.busy": "2022-06-08T10:41:28.033595Z",
     "iopub.status.idle": "2022-06-08T10:41:28.037445Z",
     "shell.execute_reply": "2022-06-08T10:41:28.036652Z"
    },
    "id": "0YpAhdMXVweL",
    "papermill": {
     "duration": 0.042848,
     "end_time": "2022-06-08T10:41:28.039290",
     "exception": false,
     "start_time": "2022-06-08T10:41:27.996442",
     "status": "completed"
    },
    "tags": []
   },
   "outputs": [],
   "source": [
    "#So we can see most of the restaurants dont have dining facility."
   ]
  },
  {
   "cell_type": "markdown",
   "id": "69c6c7b2",
   "metadata": {
    "id": "cm7nfqPQohjI",
    "papermill": {
     "duration": 0.034936,
     "end_time": "2022-06-08T10:41:28.109367",
     "exception": false,
     "start_time": "2022-06-08T10:41:28.074431",
     "status": "completed"
    },
    "tags": []
   },
   "source": [
    "#### Q2.How many restaurants have online order facility"
   ]
  },
  {
   "cell_type": "code",
   "execution_count": 53,
   "id": "cfdf7005",
   "metadata": {
    "execution": {
     "iopub.execute_input": "2022-06-08T10:41:28.182018Z",
     "iopub.status.busy": "2022-06-08T10:41:28.181417Z",
     "iopub.status.idle": "2022-06-08T10:41:28.191471Z",
     "shell.execute_reply": "2022-06-08T10:41:28.190742Z"
    },
    "executionInfo": {
     "elapsed": 38,
     "status": "ok",
     "timestamp": 1652458238690,
     "user": {
      "displayName": "Mukul Deshantri",
      "userId": "07050717677545475229"
     },
     "user_tz": -330
    },
    "id": "-vyHtrDSnH4O",
    "outputId": "67247d80-dea8-4549-d603-5622fd689e18",
    "papermill": {
     "duration": 0.048512,
     "end_time": "2022-06-08T10:41:28.193201",
     "exception": false,
     "start_time": "2022-06-08T10:41:28.144689",
     "status": "completed"
    },
    "tags": []
   },
   "outputs": [
    {
     "data": {
      "text/plain": [
       "Yes    16376\n",
       "No      6846\n",
       "Name: online_order, dtype: int64"
      ]
     },
     "execution_count": 53,
     "metadata": {},
     "output_type": "execute_result"
    }
   ],
   "source": [
    "df.online_order.value_counts()\n"
   ]
  },
  {
   "cell_type": "code",
   "execution_count": 54,
   "id": "7752202f",
   "metadata": {
    "execution": {
     "iopub.execute_input": "2022-06-08T10:41:28.266134Z",
     "iopub.status.busy": "2022-06-08T10:41:28.265405Z",
     "iopub.status.idle": "2022-06-08T10:41:28.269225Z",
     "shell.execute_reply": "2022-06-08T10:41:28.268455Z"
    },
    "id": "XoAZw5l5V3WG",
    "papermill": {
     "duration": 0.042505,
     "end_time": "2022-06-08T10:41:28.271080",
     "exception": false,
     "start_time": "2022-06-08T10:41:28.228575",
     "status": "completed"
    },
    "tags": []
   },
   "outputs": [],
   "source": [
    "#So we can see most of the restaurants have online order facility facility available. Which tells us about our online order coustomers can be increased."
   ]
  },
  {
   "cell_type": "markdown",
   "id": "90bb7210",
   "metadata": {
    "id": "DynSNORLotqs",
    "papermill": {
     "duration": 0.035209,
     "end_time": "2022-06-08T10:41:28.341701",
     "exception": false,
     "start_time": "2022-06-08T10:41:28.306492",
     "status": "completed"
    },
    "tags": []
   },
   "source": [
    "#### Q3. What are the Top 3 restaurants according to orders."
   ]
  },
  {
   "cell_type": "code",
   "execution_count": 55,
   "id": "12a86d65",
   "metadata": {
    "execution": {
     "iopub.execute_input": "2022-06-08T10:41:28.415835Z",
     "iopub.status.busy": "2022-06-08T10:41:28.415143Z",
     "iopub.status.idle": "2022-06-08T10:41:28.595575Z",
     "shell.execute_reply": "2022-06-08T10:41:28.594952Z"
    },
    "executionInfo": {
     "elapsed": 39,
     "status": "ok",
     "timestamp": 1652458238693,
     "user": {
      "displayName": "Mukul Deshantri",
      "userId": "07050717677545475229"
     },
     "user_tz": -330
    },
    "id": "kRGG1o_Jo9wh",
    "outputId": "06ac977a-3b10-4b23-b664-77a607a5306e",
    "papermill": {
     "duration": 0.219288,
     "end_time": "2022-06-08T10:41:28.597605",
     "exception": false,
     "start_time": "2022-06-08T10:41:28.378317",
     "status": "completed"
    },
    "tags": []
   },
   "outputs": [
    {
     "data": {
      "text/plain": [
       "<AxesSubplot:>"
      ]
     },
     "execution_count": 55,
     "metadata": {},
     "output_type": "execute_result"
    },
    {
     "data": {
      "image/png": "[encoded data removed]",
      "text/plain": [
       "<Figure size 432x432 with 1 Axes>"
      ]
     },
     "metadata": {
      "needs_background": "light"
     },
     "output_type": "display_data"
    }
   ],
   "source": [
    "top3res=df.name.value_counts().head(3)\n",
    "top3res.plot(kind='bar', figsize=(6,6))\n",
    "#Here onesta is the most favourite restaurant"
   ]
  },
  {
   "cell_type": "code",
   "execution_count": 56,
   "id": "8c08f64c",
   "metadata": {
    "execution": {
     "iopub.execute_input": "2022-06-08T10:41:28.671381Z",
     "iopub.status.busy": "2022-06-08T10:41:28.670719Z",
     "iopub.status.idle": "2022-06-08T10:41:28.674630Z",
     "shell.execute_reply": "2022-06-08T10:41:28.673815Z"
    },
    "id": "WZ5n7tdXWEdX",
    "papermill": {
     "duration": 0.04399,
     "end_time": "2022-06-08T10:41:28.677437",
     "exception": false,
     "start_time": "2022-06-08T10:41:28.633447",
     "status": "completed"
    },
    "tags": []
   },
   "outputs": [],
   "source": [
    "# Onesta have received the maximum amount of online orders."
   ]
  },
  {
   "cell_type": "markdown",
   "id": "f95c7291",
   "metadata": {
    "id": "oyNPVnUBrCz6",
    "papermill": {
     "duration": 0.035817,
     "end_time": "2022-06-08T10:41:28.761593",
     "exception": false,
     "start_time": "2022-06-08T10:41:28.725776",
     "status": "completed"
    },
    "tags": []
   },
   "source": [
    "#### Q4. What is the maximum type of restauant in Indiranagar"
   ]
  },
  {
   "cell_type": "code",
   "execution_count": 57,
   "id": "6a9c2e0f",
   "metadata": {
    "execution": {
     "iopub.execute_input": "2022-06-08T10:41:28.835020Z",
     "iopub.status.busy": "2022-06-08T10:41:28.834346Z",
     "iopub.status.idle": "2022-06-08T10:41:28.839692Z",
     "shell.execute_reply": "2022-06-08T10:41:28.839097Z"
    },
    "executionInfo": {
     "elapsed": 593,
     "status": "ok",
     "timestamp": 1652458965539,
     "user": {
      "displayName": "Mukul Deshantri",
      "userId": "07050717677545475229"
     },
     "user_tz": -330
    },
    "id": "fslgfb3wuW07",
    "outputId": "d7414593-8142-4329-dfc8-9cfd14c5b5ba",
    "papermill": {
     "duration": 0.043944,
     "end_time": "2022-06-08T10:41:28.841368",
     "exception": false,
     "start_time": "2022-06-08T10:41:28.797424",
     "status": "completed"
    },
    "tags": []
   },
   "outputs": [
    {
     "data": {
      "text/plain": [
       "<function max>"
      ]
     },
     "execution_count": 57,
     "metadata": {},
     "output_type": "execute_result"
    }
   ],
   "source": [
    "max_indiranagar=df.iloc[13:14,:]\n",
    "max"
   ]
  },
  {
   "cell_type": "code",
   "execution_count": 58,
   "id": "55d3d274",
   "metadata": {
    "execution": {
     "iopub.execute_input": "2022-06-08T10:41:28.914848Z",
     "iopub.status.busy": "2022-06-08T10:41:28.914177Z",
     "iopub.status.idle": "2022-06-08T10:41:28.917613Z",
     "shell.execute_reply": "2022-06-08T10:41:28.917014Z"
    },
    "id": "IsNF5-dIW0Ak",
    "papermill": {
     "duration": 0.042219,
     "end_time": "2022-06-08T10:41:28.919457",
     "exception": false,
     "start_time": "2022-06-08T10:41:28.877238",
     "status": "completed"
    },
    "tags": []
   },
   "outputs": [],
   "source": [
    "#This is a tabular representation to view it together in specific numbers."
   ]
  },
  {
   "cell_type": "markdown",
   "id": "1d1eb9dc",
   "metadata": {
    "id": "IoygMQL3vQ9g",
    "papermill": {
     "duration": 0.035278,
     "end_time": "2022-06-08T10:41:28.990530",
     "exception": false,
     "start_time": "2022-06-08T10:41:28.955252",
     "status": "completed"
    },
    "tags": []
   },
   "source": [
    "#### Q5. What is the cheapest location when it comes to restaurants."
   ]
  },
  {
   "cell_type": "code",
   "execution_count": 59,
   "id": "b08991b3",
   "metadata": {
    "execution": {
     "iopub.execute_input": "2022-06-08T10:41:29.064977Z",
     "iopub.status.busy": "2022-06-08T10:41:29.064548Z",
     "iopub.status.idle": "2022-06-08T10:41:29.074709Z",
     "shell.execute_reply": "2022-06-08T10:41:29.073757Z"
    },
    "executionInfo": {
     "elapsed": 37,
     "status": "ok",
     "timestamp": 1652458238697,
     "user": {
      "displayName": "Mukul Deshantri",
      "userId": "07050717677545475229"
     },
     "user_tz": -330
    },
    "id": "eRx7e2L7vvOV",
    "outputId": "47b2972e-d77c-43a1-8bcc-cb6bd4d74270",
    "papermill": {
     "duration": 0.050517,
     "end_time": "2022-06-08T10:41:29.076969",
     "exception": false,
     "start_time": "2022-06-08T10:41:29.026452",
     "status": "completed"
    },
    "tags": []
   },
   "outputs": [
    {
     "data": {
      "text/html": [
       "<div>\n",
       "<style scoped>\n",
       "    .dataframe tbody tr th:only-of-type {\n",
       "        vertical-align: middle;\n",
       "    }\n",
       "\n",
       "    .dataframe tbody tr th {\n",
       "        vertical-align: top;\n",
       "    }\n",
       "\n",
       "    .dataframe thead th {\n",
       "        text-align: right;\n",
       "    }\n",
       "</style>\n",
       "<table border=\"1\" class=\"dataframe\">\n",
       "  <thead>\n",
       "    <tr style=\"text-align: right;\">\n",
       "      <th></th>\n",
       "      <th>costfor2</th>\n",
       "    </tr>\n",
       "    <tr>\n",
       "      <th>location</th>\n",
       "      <th></th>\n",
       "    </tr>\n",
       "  </thead>\n",
       "  <tbody>\n",
       "    <tr>\n",
       "      <th>Basavanagudi</th>\n",
       "      <td>466.783217</td>\n",
       "    </tr>\n",
       "  </tbody>\n",
       "</table>\n",
       "</div>"
      ],
      "text/plain": [
       "                costfor2\n",
       "location                \n",
       "Basavanagudi  466.783217"
      ]
     },
     "execution_count": 59,
     "metadata": {},
     "output_type": "execute_result"
    }
   ],
   "source": [
    "df5.sort_values('costfor2',ascending=True).head(1)"
   ]
  },
  {
   "cell_type": "code",
   "execution_count": 60,
   "id": "0ddd0348",
   "metadata": {
    "execution": {
     "iopub.execute_input": "2022-06-08T10:41:29.157448Z",
     "iopub.status.busy": "2022-06-08T10:41:29.156861Z",
     "iopub.status.idle": "2022-06-08T10:41:29.161598Z",
     "shell.execute_reply": "2022-06-08T10:41:29.160570Z"
    },
    "id": "5aoB9-IzW8ue",
    "papermill": {
     "duration": 0.051454,
     "end_time": "2022-06-08T10:41:29.165087",
     "exception": false,
     "start_time": "2022-06-08T10:41:29.113633",
     "status": "completed"
    },
    "tags": []
   },
   "outputs": [],
   "source": [
    "# BASAVANAGUDI location has the lowest cost for 2 price. "
   ]
  },
  {
   "cell_type": "markdown",
   "id": "ed5b525c",
   "metadata": {
    "id": "qiIz6cUUlW6U",
    "papermill": {
     "duration": 0.044503,
     "end_time": "2022-06-08T10:41:29.261577",
     "exception": false,
     "start_time": "2022-06-08T10:41:29.217074",
     "status": "completed"
    },
    "tags": []
   },
   "source": [
    "# Inferences and Conclusion"
   ]
  },
  {
   "cell_type": "markdown",
   "id": "6cd88ec9",
   "metadata": {
    "id": "qtg7yoW4FpJp",
    "papermill": {
     "duration": 0.038325,
     "end_time": "2022-06-08T10:41:29.336793",
     "exception": false,
     "start_time": "2022-06-08T10:41:29.298468",
     "status": "completed"
    },
    "tags": []
   },
   "source": [
    " - The most number of restaurants are in Koramangala 5th Block\n",
    " - Above 16000 restaurants have online order facility and nearly 6800 restaurants are still not taking online orders\n",
    " - About 6000 restaurants have dining facility but majority don't have it.\n",
    " - Maximum rating which is around 4.8 is from the restaurants that don't have online order facility and the resturents which have online order facility have a rating of 4.6\n",
    " - Restuarants that have dining facility have more rating(4.7) \n",
    " - Resturents which don't have dining faclity have min/poor rating(3.1)\n",
    " - Lavelle Road, MG Road, Residency Road, Richmond Road have more outlets that don't provide online orders as compared to the outlets that take online orders.\n",
    " - Koramangala 5th Block has the most number of restaurents that provide the option of booking table.\n",
    " - Drinks & nightlife and Dine-out are the most preffered choices of the people.\n",
    " - MG road is the most expensive when it comes to average of all the restaurant's cost of 2.\n",
    " \n",
    "\n",
    "\n"
   ]
  },
  {
   "cell_type": "markdown",
   "id": "6436a809",
   "metadata": {
    "id": "aag77R0RldJn",
    "papermill": {
     "duration": 0.036446,
     "end_time": "2022-06-08T10:41:29.421934",
     "exception": false,
     "start_time": "2022-06-08T10:41:29.385488",
     "status": "completed"
    },
    "tags": []
   },
   "source": [
    "# References and Future Work"
   ]
  },
  {
   "cell_type": "markdown",
   "id": "81dcdc40",
   "metadata": {
    "id": "vtl7meAYMV0J",
    "papermill": {
     "duration": 0.046886,
     "end_time": "2022-06-08T10:41:29.505481",
     "exception": false,
     "start_time": "2022-06-08T10:41:29.458595",
     "status": "completed"
    },
    "tags": []
   },
   "source": [
    "#### References: \n",
    "- https://www.geeksforgeeks.org/style-plots-using-matplotlib/\n",
    "- www.kaggle.com\n",
    "- https://www.w3schools.com/python\n",
    "- https://seaborn.pydata.org/index.html\n",
    "\n",
    "#### Future work\n",
    "- Will analyse dataset of heathcare industry\n",
    "- Will analyse dataset of sales industry\n"
   ]
  },
  {
   "cell_type": "code",
   "execution_count": null,
   "id": "81442b2a",
   "metadata": {
    "id": "7iDaSt-jNR2d",
    "papermill": {
     "duration": 0.036389,
     "end_time": "2022-06-08T10:41:29.582596",
     "exception": false,
     "start_time": "2022-06-08T10:41:29.546207",
     "status": "completed"
    },
    "tags": []
   },
   "outputs": [],
   "source": []
  }
 ],
 "metadata": {
  "kernelspec": {
   "display_name": "Python 3",
   "language": "python",
   "name": "python3"
  },
  "language_info": {
   "codemirror_mode": {
    "name": "ipython",
    "version": 3
   },
   "file_extension": ".py",
   "mimetype": "text/x-python",
   "name": "python",
   "nbconvert_exporter": "python",
   "pygments_lexer": "ipython3",
   "version": "3.7.12"
  },
  "papermill": {
   "default_parameters": {},
   "duration": 37.059391,
   "end_time": "2022-06-08T10:41:30.744106",
   "environment_variables": {},
   "exception": null,
   "input_path": "__notebook__.ipynb",
   "output_path": "__notebook__.ipynb",
   "parameters": {},
   "start_time": "2022-06-08T10:40:53.684715",
   "version": "2.3.4"
  }
 },
 "nbformat": 4,
 "nbformat_minor": 5
}
